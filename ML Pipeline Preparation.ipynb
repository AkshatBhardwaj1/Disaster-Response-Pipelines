{
 "cells": [
  {
   "cell_type": "markdown",
   "metadata": {},
   "source": [
    "# ML Pipeline Preparation\n",
    "Follow the instructions below to help you create your ML pipeline.\n",
    "### 1. Import libraries and load data from database.\n",
    "- Import Python libraries\n",
    "- Load dataset from database with [`read_sql_table`](https://pandas.pydata.org/pandas-docs/stable/generated/pandas.read_sql_table.html)\n",
    "- Define feature and target variables X and Y"
   ]
  },
  {
   "cell_type": "code",
   "execution_count": 25,
   "metadata": {},
   "outputs": [
    {
     "name": "stdout",
     "output_type": "stream",
     "text": [
      "[nltk_data] Downloading package punkt to /root/nltk_data...\n",
      "[nltk_data]   Package punkt is already up-to-date!\n",
      "[nltk_data] Downloading package wordnet to /root/nltk_data...\n",
      "[nltk_data]   Package wordnet is already up-to-date!\n"
     ]
    },
    {
     "data": {
      "text/plain": [
       "True"
      ]
     },
     "execution_count": 25,
     "metadata": {},
     "output_type": "execute_result"
    }
   ],
   "source": [
    "# import libraries\n",
    "import nltk\n",
    "nltk.download(['punkt', 'wordnet'])"
   ]
  },
  {
   "cell_type": "code",
   "execution_count": 26,
   "metadata": {},
   "outputs": [
    {
     "name": "stdout",
     "output_type": "stream",
     "text": [
      "[nltk_data] Downloading package stopwords to /root/nltk_data...\n",
      "[nltk_data]   Package stopwords is already up-to-date!\n",
      "[nltk_data] Downloading package averaged_perceptron_tagger to\n",
      "[nltk_data]     /root/nltk_data...\n",
      "[nltk_data]   Package averaged_perceptron_tagger is already up-to-\n",
      "[nltk_data]       date!\n"
     ]
    },
    {
     "data": {
      "text/plain": [
       "True"
      ]
     },
     "execution_count": 26,
     "metadata": {},
     "output_type": "execute_result"
    }
   ],
   "source": [
    "import re\n",
    "import numpy as np\n",
    "import pandas as pd\n",
    "from time import time\n",
    "from nltk.tokenize import word_tokenize\n",
    "from nltk.stem import WordNetLemmatizer\n",
    "from nltk.corpus import stopwords\n",
    "nltk.download('stopwords')\n",
    "from nltk.stem.porter import PorterStemmer\n",
    "\n",
    "from sklearn.metrics import confusion_matrix, precision_score,recall_score, classification_report\n",
    "from sklearn.model_selection import train_test_split\n",
    "from sklearn.ensemble import RandomForestClassifier\n",
    "from sklearn.multioutput import MultiOutputClassifier\n",
    "\n",
    "from sklearn.feature_extraction.text import CountVectorizer, TfidfTransformer\n",
    "\n",
    "import sqlite3\n",
    "from sqlalchemy import create_engine\n",
    "from pathlib import Path\n",
    "import pickle\n",
    "\n",
    "from sklearn.pipeline import Pipeline, FeatureUnion\n",
    "from sklearn.base import BaseEstimator, TransformerMixin\n",
    "from sklearn.model_selection import GridSearchCV\n",
    "from sklearn.linear_model import RidgeClassifierCV\n",
    "import nltk\n",
    "nltk.download('averaged_perceptron_tagger')"
   ]
  },
  {
   "cell_type": "code",
   "execution_count": 27,
   "metadata": {},
   "outputs": [
    {
     "name": "stdout",
     "output_type": "stream",
     "text": [
      "1\n"
     ]
    }
   ],
   "source": [
    "import multiprocessing\n",
    "print(multiprocessing.cpu_count())"
   ]
  },
  {
   "cell_type": "code",
   "execution_count": 28,
   "metadata": {},
   "outputs": [],
   "source": [
    "# load data from database\n",
    "conn = sqlite3.connect('ETLPipelineDatabase.db')\n",
    "engine = create_engine('sqlite:///ETLPipelineDatabase.db')\n",
    "df = pd.read_sql('select * from ETLPipeline_Table',con=conn)\n",
    "df.drop(['level_0','index'],axis=1,inplace=True)\n",
    "X = df['message'].values # text array\n",
    "Y = df.iloc[:,4:].values # text array"
   ]
  },
  {
   "cell_type": "code",
   "execution_count": 29,
   "metadata": {},
   "outputs": [
    {
     "name": "stdout",
     "output_type": "stream",
     "text": [
      "Weather update - a cold front from Cuba that could pass over Haiti (26042,)\n",
      "[1 0 0 0 0 0 0 0 0 0 0 0 0 0 0 0 0 0 0 0 0 0 0 0 0 0 0 0 0 0 0 0 0 0 0 0] (26042, 36)\n"
     ]
    }
   ],
   "source": [
    "print(X[0],X.shape)\n",
    "print (Y[0],Y.shape)"
   ]
  },
  {
   "cell_type": "code",
   "execution_count": 30,
   "metadata": {},
   "outputs": [
    {
     "data": {
      "text/plain": [
       "news      12901\n",
       "direct    10747\n",
       "social     2394\n",
       "Name: genre, dtype: int64"
      ]
     },
     "execution_count": 30,
     "metadata": {},
     "output_type": "execute_result"
    }
   ],
   "source": [
    "df['genre'].value_counts()#Categorial values"
   ]
  },
  {
   "cell_type": "markdown",
   "metadata": {},
   "source": [
    "### 2. Write a tokenization function to process your text data"
   ]
  },
  {
   "cell_type": "code",
   "execution_count": 31,
   "metadata": {},
   "outputs": [],
   "source": [
    "##Trial code\n",
    "# print(X[100])\n",
    "# text = re.sub(r\"[^a-zA-Z0-9]\", \" \", X[100].lower())\n",
    "# print(text)\n",
    "# #text = text.split()\n",
    "# words = word_tokenize(text)\n",
    "# print(words)\n",
    "# # Remove stop words\n",
    "# words = [w for w in words if w not in stopwords.words(\"english\")]\n",
    "# print(words)\n",
    "# # Reduce words to their root form\n",
    "# lemmed = [WordNetLemmatizer().lemmatize(w) for w in words]\n",
    "# print(lemmed)"
   ]
  },
  {
   "cell_type": "markdown",
   "metadata": {},
   "source": [
    "    Function tokenize that takes in a string of text and applies the following:\n",
    "\n",
    "    case normalization (convert to all lowercase)\n",
    "    punctuation removal\n",
    "    tokenization, lemmatization, and stop word removal using nltk"
   ]
  },
  {
   "cell_type": "code",
   "execution_count": 32,
   "metadata": {},
   "outputs": [],
   "source": [
    "def tokenize(text):\n",
    "    # Remove punctuation characters\n",
    "    # Normalize text\n",
    "    text = re.sub(r\"[^a-zA-Z0-9]\", \" \", text.lower())\n",
    "    words = word_tokenize(text)\n",
    "    # Remove stop words\n",
    "    words = [w for w in words if w not in stopwords.words(\"english\")]\n",
    "    # Reduce words to their root form\n",
    "    lemmed = [WordNetLemmatizer().lemmatize(w) for w in words]\n",
    "    \n",
    "    return lemmed"
   ]
  },
  {
   "cell_type": "markdown",
   "metadata": {},
   "source": [
    "### 3. Build a machine learning pipeline\n",
    "- You'll find the [MultiOutputClassifier](http://scikit-learn.org/stable/modules/generated/sklearn.multioutput.MultiOutputClassifier.html) helpful for predicting multiple target variables."
   ]
  },
  {
   "cell_type": "code",
   "execution_count": 33,
   "metadata": {},
   "outputs": [],
   "source": [
    "pipeline = Pipeline([\n",
    "    ('vect', CountVectorizer(tokenizer=tokenize)),\n",
    "    ('tfidf', TfidfTransformer()),\n",
    "    ('MOC', MultiOutputClassifier(RandomForestClassifier()))\n",
    "])"
   ]
  },
  {
   "cell_type": "markdown",
   "metadata": {},
   "source": [
    "### 4. Train pipeline\n",
    "- Split data into train and test sets\n",
    "- Train pipeline"
   ]
  },
  {
   "cell_type": "code",
   "execution_count": 34,
   "metadata": {},
   "outputs": [],
   "source": [
    "from sklearn import cross_validation"
   ]
  },
  {
   "cell_type": "code",
   "execution_count": 35,
   "metadata": {},
   "outputs": [],
   "source": [
    "def display_results(y_test, y_pred):\n",
    "    \"\"\"\n",
    "    Function to display single output single target output.\n",
    "    \"\"\"\n",
    "    labels = np.unique(y_pred)\n",
    "    confusion_mat = confusion_matrix(y_test, y_pred, labels=labels)\n",
    "    accuracy = (y_pred == y_test).mean()\n",
    "\n",
    "    print(\"Labels:\", labels)\n",
    "    print(\"Confusion Matrix:\\n\", confusion_mat)\n",
    "    print(\"Accuracy:\", accuracy)\n",
    "    print(\"Precision score:\", precision_score(y_test, y_pred))\n",
    "    print(\"Recall score:\", recall_score(y_test, y_pred))"
   ]
  },
  {
   "cell_type": "code",
   "execution_count": 36,
   "metadata": {},
   "outputs": [
    {
     "name": "stdout",
     "output_type": "stream",
     "text": [
      "Training..........\n",
      "Named_steps: {'vect': CountVectorizer(analyzer='word', binary=False, decode_error='strict',\n",
      "        dtype=<class 'numpy.int64'>, encoding='utf-8', input='content',\n",
      "        lowercase=True, max_df=1.0, max_features=None, min_df=1,\n",
      "        ngram_range=(1, 1), preprocessor=None, stop_words=None,\n",
      "        strip_accents=None, token_pattern='(?u)\\\\b\\\\w\\\\w+\\\\b',\n",
      "        tokenizer=<function tokenize at 0x7f63e1aee158>, vocabulary=None), 'tfidf': TfidfTransformer(norm='l2', smooth_idf=True, sublinear_tf=False, use_idf=True), 'MOC': MultiOutputClassifier(estimator=RandomForestClassifier(bootstrap=True, class_weight=None, criterion='gini',\n",
      "            max_depth=None, max_features='auto', max_leaf_nodes=None,\n",
      "            min_impurity_decrease=0.0, min_impurity_split=None,\n",
      "            min_samples_leaf=1, min_samples_split=2,\n",
      "            min_weight_fraction_leaf=0.0, n_estimators=10, n_jobs=1,\n",
      "            oob_score=False, random_state=None, verbose=0,\n",
      "            warm_start=False),\n",
      "           n_jobs=1)}\n",
      "Score: <function Pipeline.score at 0x7f63e1aeec80>\n",
      "Get Params: <bound method Pipeline.get_params of Pipeline(memory=None,\n",
      "     steps=[('vect', CountVectorizer(analyzer='word', binary=False, decode_error='strict',\n",
      "        dtype=<class 'numpy.int64'>, encoding='utf-8', input='content',\n",
      "        lowercase=True, max_df=1.0, max_features=None, min_df=1,\n",
      "        ngram_range=(1, 1), preprocessor=None, stop_words=None,\n",
      "        strip...oob_score=False, random_state=None, verbose=0,\n",
      "            warm_start=False),\n",
      "           n_jobs=1))])>\n",
      "Time taken: 246.43297696113586\n",
      "....................finished training\n"
     ]
    }
   ],
   "source": [
    "#Split data into train and test sets\n",
    "X_train, X_test, y_train, y_test = train_test_split(X, Y,test_size=0.2)\n",
    "\n",
    "##train classifier\n",
    "\n",
    "start = time()\n",
    "\n",
    "print('Training..........')\n",
    "pipeline.fit(X_train,y_train)\n",
    "print('Named_steps: {}'.format(pipeline.named_steps),\n",
    "      'Score: {}'.format (pipeline.score),\n",
    "      'Get Params: {}'.format (pipeline.get_params),sep='\\n')\n",
    "#pipeline.steps\n",
    "\n",
    "\n",
    "print('Time taken: {}'.format(time()-start))\n",
    "print('....................finished training')"
   ]
  },
  {
   "cell_type": "code",
   "execution_count": 37,
   "metadata": {},
   "outputs": [
    {
     "name": "stdout",
     "output_type": "stream",
     "text": [
      "Predicting..........\n",
      "..................................finished predicting\n"
     ]
    }
   ],
   "source": [
    "# predict on test data\n",
    "print('Predicting..........')\n",
    "y_pred = pipeline.predict(X_test)\n",
    "print('..................................finished predicting')"
   ]
  },
  {
   "cell_type": "code",
   "execution_count": 38,
   "metadata": {},
   "outputs": [
    {
     "name": "stdout",
     "output_type": "stream",
     "text": [
      "Evaluating ...........\n",
      "Labels: [0 1]\n",
      "Confusion Matrix:\n",
      " [[4202  127]\n",
      " [ 812   68]]\n",
      "Accuracy: 0.819735073911\n",
      "Precision score: 0.348717948718\n",
      "Recall score: 0.0772727272727\n"
     ]
    }
   ],
   "source": [
    "print('Evaluating ...........')\n",
    "display_results(y_test[:,1], y_pred[:,1])\n",
    "#precision_score(y_test[:,10], y_pred[:,10])\n",
    "#recall_score(y_test[:,10], y_pred[:,10])\n",
    "# print(precision_score(y_test[:,10], y_pred[:,10]))\n",
    "# print (recall_score(y_test[:,10], y_pred[:,10]))"
   ]
  },
  {
   "cell_type": "markdown",
   "metadata": {},
   "source": [
    "### 5. Test your model\n",
    "Report the f1 score, precision and recall for each output category of the dataset. You can do this by iterating through the columns and calling sklearn's `classification_report` on each."
   ]
  },
  {
   "cell_type": "code",
   "execution_count": 39,
   "metadata": {},
   "outputs": [
    {
     "name": "stdout",
     "output_type": "stream",
     "text": [
      "(5209, 36) (5209, 36)\n"
     ]
    }
   ],
   "source": [
    "print(y_test.shape, y_pred.shape)"
   ]
  },
  {
   "cell_type": "code",
   "execution_count": 40,
   "metadata": {},
   "outputs": [
    {
     "name": "stdout",
     "output_type": "stream",
     "text": [
      "             precision    recall  f1-score   support\n",
      "\n",
      "          0       1.00      1.00      1.00        35\n",
      "          1       1.00      1.00      1.00         1\n",
      "\n",
      "avg / total       1.00      1.00      1.00        36\n",
      "\n"
     ]
    }
   ],
   "source": [
    "print(classification_report(y_test[100], y_pred[100]))"
   ]
  },
  {
   "cell_type": "code",
   "execution_count": 41,
   "metadata": {},
   "outputs": [],
   "source": [
    "### Trial code..........\n",
    "\n",
    "# columns = df.iloc[:,4:].columns\n",
    "# i = 0\n",
    "# report = []\n",
    "# for col in columns:\n",
    "#     for i in range(y_pred.shape[1]):\n",
    "#         #print(classification_report(y_test[i], y_pred[i],target_names =df.iloc[:,4:]))\n",
    "#         report.append(classification_report(y_test[i], y_pred[i],target_names =[col]))\n",
    "#         #print(classification_report(y_test[i], y_pred[i],target_names =[col]))\n",
    "#         #i += 1\n",
    "#         #print(i)\n",
    "#         #print(*report,sep='\\n',end=',')\n",
    "\n",
    "# print(*report,sep='\\n',end=',')"
   ]
  },
  {
   "cell_type": "code",
   "execution_count": 42,
   "metadata": {},
   "outputs": [
    {
     "name": "stdout",
     "output_type": "stream",
     "text": [
      "Evaluating ...........\n",
      "Printing precision score, recall score & f1-score for target columns...............\n",
      "             precision    recall  f1-score   support\n",
      "\n",
      "    related       0.32      0.14      0.19      1212\n",
      "\n",
      "avg / total       0.66      0.72      0.68      5209\n",
      "\n",
      "             precision    recall  f1-score   support\n",
      "\n",
      "    request       0.84      0.97      0.90      4329\n",
      "\n",
      "avg / total       0.76      0.82      0.77      5209\n",
      "\n",
      "             precision    recall  f1-score   support\n",
      "\n",
      "      offer       1.00      1.00      1.00      5183\n",
      "\n",
      "avg / total       0.99      1.00      0.99      5209\n",
      "\n",
      "             precision    recall  f1-score   support\n",
      "\n",
      "aid_related       0.59      0.79      0.67      3061\n",
      "\n",
      "avg / total       0.52      0.55      0.52      5209\n",
      "\n",
      "              precision    recall  f1-score   support\n",
      "\n",
      "medical_help       0.92      0.99      0.96      4794\n",
      "\n",
      " avg / total       0.85      0.91      0.88      5209\n",
      "\n",
      "                  precision    recall  f1-score   support\n",
      "\n",
      "medical_products       0.95      1.00      0.97      4953\n",
      "\n",
      "     avg / total       0.91      0.95      0.93      5209\n",
      "\n",
      "                   precision    recall  f1-score   support\n",
      "\n",
      "search_and_rescue       0.97      1.00      0.98      5064\n",
      "\n",
      "      avg / total       0.95      0.97      0.96      5209\n",
      "\n",
      "             precision    recall  f1-score   support\n",
      "\n",
      "   security       0.98      1.00      0.99      5115\n",
      "\n",
      "avg / total       0.96      0.98      0.97      5209\n",
      "\n",
      "             precision    recall  f1-score   support\n",
      "\n",
      "   military       0.97      1.00      0.98      5031\n",
      "\n",
      "avg / total       0.93      0.97      0.95      5209\n",
      "\n",
      "             precision    recall  f1-score   support\n",
      "\n",
      "child_alone       1.00      1.00      1.00      5209\n",
      "\n",
      "avg / total       1.00      1.00      1.00      5209\n",
      "\n",
      "             precision    recall  f1-score   support\n",
      "\n",
      "      water       0.94      0.99      0.97      4911\n",
      "\n",
      "avg / total       0.90      0.94      0.91      5209\n",
      "\n",
      "             precision    recall  f1-score   support\n",
      "\n",
      "       food       0.89      0.99      0.94      4640\n",
      "\n",
      "avg / total       0.81      0.88      0.84      5209\n",
      "\n",
      "             precision    recall  f1-score   support\n",
      "\n",
      "    shelter       0.92      0.99      0.95      4775\n",
      "\n",
      "avg / total       0.85      0.91      0.87      5209\n",
      "\n",
      "             precision    recall  f1-score   support\n",
      "\n",
      "   clothing       0.99      1.00      0.99      5144\n",
      "\n",
      "avg / total       0.98      0.99      0.98      5209\n",
      "\n",
      "             precision    recall  f1-score   support\n",
      "\n",
      "      money       0.97      1.00      0.99      5059\n",
      "\n",
      "avg / total       0.94      0.97      0.96      5209\n",
      "\n",
      "                precision    recall  f1-score   support\n",
      "\n",
      "missing_people       0.99      1.00      0.99      5147\n",
      "\n",
      "   avg / total       0.98      0.99      0.98      5209\n",
      "\n",
      "             precision    recall  f1-score   support\n",
      "\n",
      "   refugees       0.97      1.00      0.98      5045\n",
      "\n",
      "avg / total       0.94      0.97      0.95      5209\n",
      "\n",
      "             precision    recall  f1-score   support\n",
      "\n",
      "      death       0.95      1.00      0.97      4959\n",
      "\n",
      "avg / total       0.91      0.95      0.93      5209\n",
      "\n",
      "             precision    recall  f1-score   support\n",
      "\n",
      "  other_aid       0.87      0.98      0.92      4527\n",
      "\n",
      "avg / total       0.77      0.85      0.81      5209\n",
      "\n",
      "                        precision    recall  f1-score   support\n",
      "\n",
      "infrastructure_related       0.93      1.00      0.96      4862\n",
      "\n",
      "           avg / total       0.87      0.93      0.90      5209\n",
      "\n",
      "             precision    recall  f1-score   support\n",
      "\n",
      "  transport       0.95      1.00      0.97      4962\n",
      "\n",
      "avg / total       0.91      0.95      0.93      5209\n",
      "\n",
      "             precision    recall  f1-score   support\n",
      "\n",
      "  buildings       0.95      0.99      0.97      4936\n",
      "\n",
      "avg / total       0.91      0.94      0.92      5209\n",
      "\n",
      "             precision    recall  f1-score   support\n",
      "\n",
      "electricity       0.98      1.00      0.99      5111\n",
      "\n",
      "avg / total       0.96      0.98      0.97      5209\n",
      "\n",
      "             precision    recall  f1-score   support\n",
      "\n",
      "      tools       0.99      1.00      1.00      5176\n",
      "\n",
      "avg / total       0.99      0.99      0.99      5209\n",
      "\n",
      "             precision    recall  f1-score   support\n",
      "\n",
      "  hospitals       0.99      1.00      0.99      5151\n",
      "\n",
      "avg / total       0.98      0.99      0.98      5209\n",
      "\n",
      "             precision    recall  f1-score   support\n",
      "\n",
      "      shops       0.99      1.00      1.00      5182\n",
      "\n",
      "avg / total       0.99      0.99      0.99      5209\n",
      "\n",
      "             precision    recall  f1-score   support\n",
      "\n",
      "aid_centers       0.99      1.00      0.99      5148\n",
      "\n",
      "avg / total       0.98      0.99      0.98      5209\n",
      "\n",
      "                      precision    recall  f1-score   support\n",
      "\n",
      "other_infrastructure       0.95      1.00      0.98      4975\n",
      "\n",
      "         avg / total       0.91      0.95      0.93      5209\n",
      "\n",
      "                 precision    recall  f1-score   support\n",
      "\n",
      "weather_related       0.74      0.93      0.82      3740\n",
      "\n",
      "    avg / total       0.67      0.72      0.66      5209\n",
      "\n",
      "             precision    recall  f1-score   support\n",
      "\n",
      "     floods       0.91      0.99      0.95      4759\n",
      "\n",
      "avg / total       0.85      0.91      0.87      5209\n",
      "\n",
      "             precision    recall  f1-score   support\n",
      "\n",
      "      storm       0.90      0.99      0.95      4688\n",
      "\n",
      "avg / total       0.86      0.90      0.86      5209\n",
      "\n",
      "             precision    recall  f1-score   support\n",
      "\n",
      "       fire       0.99      1.00      1.00      5166\n",
      "\n",
      "avg / total       0.98      0.99      0.99      5209\n",
      "\n",
      "             precision    recall  f1-score   support\n",
      "\n",
      " earthquake       0.92      0.99      0.95      4735\n",
      "\n",
      "avg / total       0.89      0.91      0.89      5209\n",
      "\n",
      "             precision    recall  f1-score   support\n",
      "\n",
      "       cold       0.98      1.00      0.99      5109\n",
      "\n",
      "avg / total       0.96      0.98      0.97      5209\n",
      "\n",
      "               precision    recall  f1-score   support\n",
      "\n",
      "other_weather       0.94      1.00      0.97      4914\n",
      "\n",
      "  avg / total       0.89      0.94      0.91      5209\n",
      "\n",
      "               precision    recall  f1-score   support\n",
      "\n",
      "direct_report       0.81      0.96      0.88      4213\n",
      "\n",
      "  avg / total       0.72      0.79      0.74      5209\n",
      "\n",
      "..............................................Finished printing precision recall & f1-score for target columns.\n"
     ]
    },
    {
     "name": "stderr",
     "output_type": "stream",
     "text": [
      "/opt/conda/lib/python3.6/site-packages/sklearn/metrics/classification.py:1428: UserWarning: labels size, 3, does not match size of target_names, 1\n",
      "  .format(len(labels), len(target_names))\n",
      "/opt/conda/lib/python3.6/site-packages/sklearn/metrics/classification.py:1428: UserWarning: labels size, 2, does not match size of target_names, 1\n",
      "  .format(len(labels), len(target_names))\n",
      "/opt/conda/lib/python3.6/site-packages/sklearn/metrics/classification.py:1135: UndefinedMetricWarning: Precision and F-score are ill-defined and being set to 0.0 in labels with no predicted samples.\n",
      "  'precision', 'predicted', average, warn_for)\n"
     ]
    }
   ],
   "source": [
    "def display_classification_report(y_test,y_pred,df):\n",
    "    \n",
    "    \"\"\"\"Function to print multi-label multioutput metrics using sklearn.metrics.classification_report.\n",
    "    Docstring-\n",
    "    Input parameters:\n",
    "    y_test- y testing set from training and testing split.\n",
    "    y_pred- predictions results after model prediction.\n",
    "    df - original clean dataframe with column names to extract 36 column names as target labels.\n",
    "\n",
    "    Output - print display precision score, recall score & f1-score for target columns\n",
    "    \"\"\"\n",
    "    # Loop to evaluate metrics per column.\n",
    "    print ('Printing precision score, recall score & f1-score for target columns...............')\n",
    "    columns = df.iloc[:,4:].columns\n",
    "    i = 0\n",
    "    report = []\n",
    "    for col in columns:\n",
    "        report.append(classification_report(y_test[:,i], y_pred[:,i],target_names =[col]))\n",
    "        i+=1\n",
    "\n",
    "\n",
    "    print(*report,sep='\\n',end='\\n')\n",
    "    print ('..............................................Finished printing precision recall & f1-score for target columns.')\n",
    "    \n",
    "    \n",
    "###Evaluate\n",
    "print('Evaluating ...........')\n",
    "display_classification_report(y_test,y_pred,df)"
   ]
  },
  {
   "cell_type": "markdown",
   "metadata": {},
   "source": [
    "### 6. Improve your model\n",
    "Use grid search to find better parameters. "
   ]
  },
  {
   "cell_type": "code",
   "execution_count": 30,
   "metadata": {},
   "outputs": [],
   "source": [
    "def build_model():\n",
    "    pipeline1 = Pipeline([\n",
    "        ('vect', CountVectorizer(tokenizer=tokenize)),\n",
    "        ('tfidf', TfidfTransformer()),\n",
    "        ('clf', MultiOutputClassifier(RandomForestClassifier()))\n",
    "    ])\n",
    "    parameters = {\n",
    "        'vect__ngram_range': ((1,1),(1, 2)),\n",
    "        #'vect__max_df': [1.0],\n",
    "        #'vect__min_df' : [1],\n",
    "        #'tfidf__norm' : ['l2'],\n",
    "        #'tfidf__use_idf' : ['True'],\n",
    "        #'clf__estimator__min_samples_split': [2],\n",
    "        #'clf__estimator__n_estimators': [100],\n",
    "        #'clf__estimator__max_features': ['auto'],\n",
    "        #'clf__estimator__criterion': ['gini'],\n",
    "        #'clf__estimator__class_weight' : [{0: 1, 1: 1}]\n",
    "    }\n",
    "    \n",
    "    \n",
    "    cv = GridSearchCV(pipeline1, param_grid = parameters, verbose = 1, n_jobs=-1)\n",
    "    \n",
    "    return cv"
   ]
  },
  {
   "cell_type": "code",
   "execution_count": 32,
   "metadata": {},
   "outputs": [
    {
     "name": "stdout",
     "output_type": "stream",
     "text": [
      "Training using Grid Search.........\n",
      "Fitting 3 folds for each of 2 candidates, totalling 6 fits\n"
     ]
    },
    {
     "name": "stderr",
     "output_type": "stream",
     "text": [
      "[Parallel(n_jobs=-1)]: Done   6 out of   6 | elapsed: 36.6min finished\n"
     ]
    },
    {
     "name": "stdout",
     "output_type": "stream",
     "text": [
      "Time taken: 2484.850732088089\n",
      "...........................................finished training\n"
     ]
    }
   ],
   "source": [
    "# Train using GridSearch\n",
    "print('Training using Grid Search.........')\n",
    "start = time()\n",
    "\n",
    "model1 = build_model()\n",
    "model1.fit(X_train,y_train)\n",
    "\n",
    "print('Time taken: {}'.format(time()-start))\n",
    "print('...........................................finished training')"
   ]
  },
  {
   "cell_type": "code",
   "execution_count": 35,
   "metadata": {},
   "outputs": [
    {
     "name": "stdout",
     "output_type": "stream",
     "text": [
      "predicting.........\n",
      "Training using Grid Search.........\n",
      "Time taken: 32.67859649658203\n",
      "...........................................finished training\n"
     ]
    }
   ],
   "source": [
    "print('predicting using Grid Search.........')\n",
    "start = time()\n",
    "# Predict\n",
    "y_pred1 = model1.predict(X_test)\n",
    "\n",
    "print('Time taken: {}'.format(time()-start))\n",
    "print('...........................................finished predicting')"
   ]
  },
  {
   "cell_type": "markdown",
   "metadata": {},
   "source": [
    "### 7. Test your model\n",
    "Show the accuracy, precision, and recall of the tuned model.  \n",
    "\n",
    "Since this project focuses on code quality, process, and  pipelines, there is no minimum performance metric needed to pass. However, make sure to fine tune your models for accuracy, precision and recall to make your project stand out - especially for your portfolio!"
   ]
  },
  {
   "cell_type": "code",
   "execution_count": 40,
   "metadata": {},
   "outputs": [
    {
     "name": "stdout",
     "output_type": "stream",
     "text": [
      "Printing precision score, recall score & f1-score for target columns...............\n",
      "             precision    recall  f1-score   support\n",
      "\n",
      "    related       0.33      0.16      0.22      1219\n",
      "\n",
      "avg / total       0.67      0.72      0.68      5209\n",
      "\n",
      "             precision    recall  f1-score   support\n",
      "\n",
      "    request       0.83      0.98      0.90      4306\n",
      "\n",
      "avg / total       0.76      0.82      0.77      5209\n",
      "\n",
      "             precision    recall  f1-score   support\n",
      "\n",
      "      offer       1.00      1.00      1.00      5188\n",
      "\n",
      "avg / total       0.99      1.00      0.99      5209\n",
      "\n",
      "             precision    recall  f1-score   support\n",
      "\n",
      "aid_related       0.59      0.78      0.67      3049\n",
      "\n",
      "avg / total       0.52      0.55      0.51      5209\n",
      "\n",
      "              precision    recall  f1-score   support\n",
      "\n",
      "medical_help       0.92      1.00      0.96      4810\n",
      "\n",
      " avg / total       0.86      0.92      0.89      5209\n",
      "\n",
      "                  precision    recall  f1-score   support\n",
      "\n",
      "medical_products       0.95      1.00      0.97      4966\n",
      "\n",
      "     avg / total       0.91      0.95      0.93      5209\n",
      "\n",
      "                   precision    recall  f1-score   support\n",
      "\n",
      "search_and_rescue       0.97      1.00      0.98      5067\n",
      "\n",
      "      avg / total       0.95      0.97      0.96      5209\n",
      "\n",
      "             precision    recall  f1-score   support\n",
      "\n",
      "   security       0.98      1.00      0.99      5118\n",
      "\n",
      "avg / total       0.97      0.98      0.97      5209\n",
      "\n",
      "             precision    recall  f1-score   support\n",
      "\n",
      "   military       0.97      1.00      0.98      5050\n",
      "\n",
      "avg / total       0.95      0.97      0.95      5209\n",
      "\n",
      "             precision    recall  f1-score   support\n",
      "\n",
      "child_alone       1.00      1.00      1.00      5209\n",
      "\n",
      "avg / total       1.00      1.00      1.00      5209\n",
      "\n",
      "             precision    recall  f1-score   support\n",
      "\n",
      "      water       0.93      1.00      0.96      4860\n",
      "\n",
      "avg / total       0.89      0.93      0.90      5209\n",
      "\n",
      "             precision    recall  f1-score   support\n",
      "\n",
      "       food       0.89      0.99      0.94      4615\n",
      "\n",
      "avg / total       0.81      0.88      0.83      5209\n",
      "\n",
      "             precision    recall  f1-score   support\n",
      "\n",
      "    shelter       0.92      0.99      0.95      4779\n",
      "\n",
      "avg / total       0.85      0.91      0.88      5209\n",
      "\n",
      "             precision    recall  f1-score   support\n",
      "\n",
      "   clothing       0.98      1.00      0.99      5124\n",
      "\n",
      "avg / total       0.97      0.98      0.98      5209\n",
      "\n",
      "             precision    recall  f1-score   support\n",
      "\n",
      "      money       0.98      1.00      0.99      5089\n",
      "\n",
      "avg / total       0.95      0.98      0.97      5209\n",
      "\n",
      "                precision    recall  f1-score   support\n",
      "\n",
      "missing_people       0.99      1.00      0.99      5136\n",
      "\n",
      "   avg / total       0.97      0.99      0.98      5209\n",
      "\n",
      "             precision    recall  f1-score   support\n",
      "\n",
      "   refugees       0.97      1.00      0.98      5047\n",
      "\n",
      "avg / total       0.94      0.97      0.95      5209\n",
      "\n",
      "             precision    recall  f1-score   support\n",
      "\n",
      "      death       0.95      1.00      0.97      4949\n",
      "\n",
      "avg / total       0.91      0.95      0.92      5209\n",
      "\n",
      "             precision    recall  f1-score   support\n",
      "\n",
      "  other_aid       0.87      0.98      0.92      4518\n",
      "\n",
      "avg / total       0.77      0.86      0.80      5209\n",
      "\n",
      "                        precision    recall  f1-score   support\n",
      "\n",
      "infrastructure_related       0.94      0.99      0.96      4876\n",
      "\n",
      "           avg / total       0.88      0.93      0.90      5209\n",
      "\n",
      "             precision    recall  f1-score   support\n",
      "\n",
      "  transport       0.96      1.00      0.98      4981\n",
      "\n",
      "avg / total       0.92      0.95      0.93      5209\n",
      "\n",
      "             precision    recall  f1-score   support\n",
      "\n",
      "  buildings       0.95      0.99      0.97      4972\n",
      "\n",
      "avg / total       0.92      0.95      0.93      5209\n",
      "\n",
      "             precision    recall  f1-score   support\n",
      "\n",
      "electricity       0.98      1.00      0.99      5101\n",
      "\n",
      "avg / total       0.96      0.98      0.97      5209\n",
      "\n",
      "             precision    recall  f1-score   support\n",
      "\n",
      "      tools       0.99      1.00      1.00      5177\n",
      "\n",
      "avg / total       0.99      0.99      0.99      5209\n",
      "\n",
      "             precision    recall  f1-score   support\n",
      "\n",
      "  hospitals       0.99      1.00      1.00      5159\n",
      "\n",
      "avg / total       0.98      0.99      0.99      5209\n",
      "\n",
      "             precision    recall  f1-score   support\n",
      "\n",
      "      shops       1.00      1.00      1.00      5185\n",
      "\n",
      "avg / total       0.99      1.00      0.99      5209\n",
      "\n",
      "             precision    recall  f1-score   support\n",
      "\n",
      "aid_centers       0.99      1.00      0.99      5146\n",
      "\n",
      "avg / total       0.98      0.99      0.98      5209\n",
      "\n",
      "                      precision    recall  f1-score   support\n",
      "\n",
      "other_infrastructure       0.96      1.00      0.98      4976\n",
      "\n",
      "         avg / total       0.92      0.95      0.93      5209\n",
      "\n",
      "                 precision    recall  f1-score   support\n",
      "\n",
      "weather_related       0.75      0.92      0.83      3783\n",
      "\n",
      "    avg / total       0.67      0.72      0.67      5209\n",
      "\n",
      "             precision    recall  f1-score   support\n",
      "\n",
      "     floods       0.92      0.99      0.95      4798\n",
      "\n",
      "avg / total       0.86      0.91      0.88      5209\n",
      "\n",
      "             precision    recall  f1-score   support\n",
      "\n",
      "      storm       0.91      0.99      0.95      4727\n",
      "\n",
      "avg / total       0.86      0.90      0.87      5209\n",
      "\n",
      "             precision    recall  f1-score   support\n",
      "\n",
      "       fire       0.99      1.00      0.99      5152\n",
      "\n",
      "avg / total       0.98      0.99      0.98      5209\n",
      "\n",
      "             precision    recall  f1-score   support\n",
      "\n",
      " earthquake       0.92      0.99      0.95      4743\n",
      "\n",
      "avg / total       0.89      0.91      0.89      5209\n",
      "\n",
      "             precision    recall  f1-score   support\n",
      "\n",
      "       cold       0.98      1.00      0.99      5113\n",
      "\n",
      "avg / total       0.96      0.98      0.97      5209\n",
      "\n",
      "               precision    recall  f1-score   support\n",
      "\n",
      "other_weather       0.95      1.00      0.97      4929\n",
      "\n",
      "  avg / total       0.90      0.94      0.92      5209\n",
      "\n",
      "               precision    recall  f1-score   support\n",
      "\n",
      "direct_report       0.81      0.97      0.88      4179\n",
      "\n",
      "  avg / total       0.73      0.79      0.74      5209\n",
      "\n",
      "..............................................Finished printing precision recall & f1-score for target columns.\n"
     ]
    },
    {
     "name": "stderr",
     "output_type": "stream",
     "text": [
      "/opt/conda/lib/python3.6/site-packages/sklearn/metrics/classification.py:1428: UserWarning: labels size, 3, does not match size of target_names, 1\n",
      "  .format(len(labels), len(target_names))\n",
      "/opt/conda/lib/python3.6/site-packages/sklearn/metrics/classification.py:1428: UserWarning: labels size, 2, does not match size of target_names, 1\n",
      "  .format(len(labels), len(target_names))\n",
      "/opt/conda/lib/python3.6/site-packages/sklearn/metrics/classification.py:1135: UndefinedMetricWarning: Precision and F-score are ill-defined and being set to 0.0 in labels with no predicted samples.\n",
      "  'precision', 'predicted', average, warn_for)\n"
     ]
    }
   ],
   "source": [
    "display_classification_report(y_test,y_pred1,df)"
   ]
  },
  {
   "cell_type": "markdown",
   "metadata": {},
   "source": [
    "### 8. Try improving your model further. Here are a few ideas:\n",
    "* try other machine learning algorithms\n",
    "* add other features besides the TF-IDF"
   ]
  },
  {
   "cell_type": "code",
   "execution_count": 12,
   "metadata": {},
   "outputs": [],
   "source": [
    "#from sklearn.linear_model import RidgeClassifierCV\n",
    "from sklearn.ensemble import RandomForestClassifier"
   ]
  },
  {
   "cell_type": "code",
   "execution_count": 13,
   "metadata": {},
   "outputs": [
    {
     "data": {
      "text/plain": [
       "GridSearchCV(cv=None, error_score='raise',\n",
       "       estimator=Pipeline(memory=None,\n",
       "     steps=[('vect', CountVectorizer(analyzer='word', binary=False, decode_error='strict',\n",
       "        dtype=<class 'numpy.int64'>, encoding='utf-8', input='content',\n",
       "        lowercase=True, max_df=1.0, max_features=None, min_df=1,\n",
       "        ngram_range=(1, 1), preprocessor=None, stop_words=None,\n",
       "        strip...oob_score=False, random_state=None, verbose=0,\n",
       "            warm_start=False),\n",
       "           n_jobs=1))]),\n",
       "       fit_params=None, iid=True, n_jobs=-1,\n",
       "       param_grid={'vect__ngram_range': ((1, 1), (1, 2))},\n",
       "       pre_dispatch='2*n_jobs', refit=True, return_train_score='warn',\n",
       "       scoring=None, verbose=1)"
      ]
     },
     "execution_count": 13,
     "metadata": {},
     "output_type": "execute_result"
    }
   ],
   "source": [
    "pipeline2 = Pipeline([\n",
    "    ('vect', CountVectorizer(tokenizer=tokenize)),\n",
    "    #('clf', RidgeClassifierCV())\n",
    "    ('clf',  MultiOutputClassifier(RandomForestClassifier()))\n",
    "])\n",
    "tuned_parameters = {\n",
    "    'vect__ngram_range': ((1,1),(1, 2))\n",
    "}\n",
    "\n",
    "\n",
    "modelcv2 = GridSearchCV(pipeline2, param_grid = tuned_parameters, verbose = 1, n_jobs=-1)\n",
    "modelcv2"
   ]
  },
  {
   "cell_type": "code",
   "execution_count": 18,
   "metadata": {},
   "outputs": [],
   "source": [
    "#Split data into train and test sets\n",
    "X_train, X_test, y_train, y_test = train_test_split(X, Y,test_size=0.5)"
   ]
  },
  {
   "cell_type": "code",
   "execution_count": 19,
   "metadata": {},
   "outputs": [
    {
     "name": "stdout",
     "output_type": "stream",
     "text": [
      "Fitting 3 folds for each of 2 candidates, totalling 6 fits\n"
     ]
    },
    {
     "name": "stderr",
     "output_type": "stream",
     "text": [
      "[Parallel(n_jobs=-1)]: Done   6 out of   6 | elapsed: 17.6min finished\n"
     ]
    },
    {
     "data": {
      "text/plain": [
       "GridSearchCV(cv=None, error_score='raise',\n",
       "       estimator=Pipeline(memory=None,\n",
       "     steps=[('vect', CountVectorizer(analyzer='word', binary=False, decode_error='strict',\n",
       "        dtype=<class 'numpy.int64'>, encoding='utf-8', input='content',\n",
       "        lowercase=True, max_df=1.0, max_features=None, min_df=1,\n",
       "        ngram_range=(1, 1), preprocessor=None, stop_words=None,\n",
       "        strip...oob_score=False, random_state=None, verbose=0,\n",
       "            warm_start=False),\n",
       "           n_jobs=1))]),\n",
       "       fit_params=None, iid=True, n_jobs=-1,\n",
       "       param_grid={'vect__ngram_range': ((1, 1), (1, 2))},\n",
       "       pre_dispatch='2*n_jobs', refit=True, return_train_score='warn',\n",
       "       scoring=None, verbose=1)"
      ]
     },
     "execution_count": 19,
     "metadata": {},
     "output_type": "execute_result"
    }
   ],
   "source": [
    "#Train using MultiOutputClassifier(RandomForestClassifier()) without TfID\n",
    "modelcv2.fit(X_train,y_train)"
   ]
  },
  {
   "cell_type": "code",
   "execution_count": 43,
   "metadata": {},
   "outputs": [
    {
     "name": "stdout",
     "output_type": "stream",
     "text": [
      "predicting using Grid Search.........\n",
      "Time taken: 34.60213589668274\n",
      "...........................................finished predicting\n"
     ]
    }
   ],
   "source": [
    "#predict on test data\n",
    "print('predicting using Grid Search.........')\n",
    "start = time()\n",
    "\n",
    "#Predict\n",
    "y_pred2 = modelcv2.predict(X_test)\n",
    "\n",
    "\n",
    "print('Time taken: {}'.format(time()-start))\n",
    "print('...........................................finished predicting')"
   ]
  },
  {
   "cell_type": "code",
   "execution_count": 44,
   "metadata": {},
   "outputs": [
    {
     "name": "stdout",
     "output_type": "stream",
     "text": [
      "best_estimator: Pipeline(memory=None,\n",
      "     steps=[('vect', CountVectorizer(analyzer='word', binary=False, decode_error='strict',\n",
      "        dtype=<class 'numpy.int64'>, encoding='utf-8', input='content',\n",
      "        lowercase=True, max_df=1.0, max_features=None, min_df=1,\n",
      "        ngram_range=(1, 2), preprocessor=None, stop_words=None,\n",
      "        strip...oob_score=False, random_state=None, verbose=0,\n",
      "            warm_start=False),\n",
      "           n_jobs=1))])\n",
      "best params:{'vect__ngram_range': (1, 2)}\n",
      "best score: 0.1794025036479533\n",
      "Cross Validation results: {'mean_fit_time': array([  78.6131297 ,  111.36622723]), 'std_fit_time': array([ 0.1120005,  2.268008 ]), 'mean_score_time': array([ 26.37832721,  27.19716477]), 'std_score_time': array([ 0.34394588,  0.50386717]), 'param_vect__ngram_range': masked_array(data = [(1, 1) (1, 2)],\n",
      "             mask = [False False],\n",
      "       fill_value = ?)\n",
      ", 'params': [{'vect__ngram_range': (1, 1)}, {'vect__ngram_range': (1, 2)}], 'split0_test_score': array([ 0.14674038,  0.17991246]), 'split1_test_score': array([ 0.1483871,  0.1781106]), 'split2_test_score': array([ 0.15230415,  0.18018433]), 'mean_test_score': array([ 0.14914369,  0.1794025 ]), 'std_test_score': array([ 0.00233359,  0.00092018]), 'rank_test_score': array([2, 1], dtype=int32), 'split0_train_score': array([ 0.70864055,  0.66647465]), 'split1_train_score': array([ 0.71132358,  0.66651307]), 'split2_train_score': array([ 0.70613985,  0.66501555]), 'mean_train_score': array([ 0.70870133,  0.66600109]), 'std_train_score': array([ 0.00211669,  0.00069706])}\n",
      "Scorer : <function _passthrough_scorer at 0x7f6425552598>\n"
     ]
    }
   ],
   "source": [
    "print ('best_estimator: {}'.format(modelcv2.best_estimator_),\n",
    "       'best params:{}'.format(modelcv2.best_params_),\n",
    "       'best score: {}'.format(modelcv2.best_score_),\n",
    "       'Cross Validation results: {}'.format(modelcv2.cv_results_),\n",
    "       'Scorer : {}'.format(modelcv2.scorer_),\n",
    "       sep='\\n' )"
   ]
  },
  {
   "cell_type": "code",
   "execution_count": 45,
   "metadata": {},
   "outputs": [
    {
     "name": "stdout",
     "output_type": "stream",
     "text": [
      "Printing precision score, recall score & f1-score for target columns...............\n",
      "             precision    recall  f1-score   support\n",
      "\n",
      "    related       0.79      0.53      0.63      1212\n",
      "\n",
      "avg / total       0.85      0.85      0.84      5209\n",
      "\n",
      "             precision    recall  f1-score   support\n",
      "\n",
      "    request       0.90      0.99      0.94      4329\n",
      "\n",
      "avg / total       0.90      0.90      0.89      5209\n",
      "\n",
      "             precision    recall  f1-score   support\n",
      "\n",
      "      offer       1.00      1.00      1.00      5183\n",
      "\n",
      "avg / total       1.00      1.00      1.00      5209\n",
      "\n",
      "             precision    recall  f1-score   support\n",
      "\n",
      "aid_related       0.74      0.95      0.83      3061\n",
      "\n",
      "avg / total       0.80      0.77      0.76      5209\n",
      "\n",
      "              precision    recall  f1-score   support\n",
      "\n",
      "medical_help       0.95      1.00      0.97      4794\n",
      "\n",
      " avg / total       0.95      0.95      0.94      5209\n",
      "\n",
      "                  precision    recall  f1-score   support\n",
      "\n",
      "medical_products       0.97      1.00      0.98      4953\n",
      "\n",
      "     avg / total       0.97      0.97      0.96      5209\n",
      "\n",
      "                   precision    recall  f1-score   support\n",
      "\n",
      "search_and_rescue       0.98      1.00      0.99      5064\n",
      "\n",
      "      avg / total       0.98      0.98      0.98      5209\n",
      "\n",
      "             precision    recall  f1-score   support\n",
      "\n",
      "   security       0.99      1.00      0.99      5115\n",
      "\n",
      "avg / total       0.99      0.99      0.98      5209\n",
      "\n",
      "             precision    recall  f1-score   support\n",
      "\n",
      "   military       0.98      1.00      0.99      5031\n",
      "\n",
      "avg / total       0.98      0.98      0.97      5209\n",
      "\n",
      "             precision    recall  f1-score   support\n",
      "\n",
      "child_alone       1.00      1.00      1.00      5209\n",
      "\n",
      "avg / total       1.00      1.00      1.00      5209\n",
      "\n",
      "             precision    recall  f1-score   support\n",
      "\n",
      "      water       0.96      1.00      0.98      4911\n",
      "\n",
      "avg / total       0.96      0.96      0.96      5209\n",
      "\n",
      "             precision    recall  f1-score   support\n",
      "\n",
      "       food       0.93      1.00      0.96      4640\n",
      "\n",
      "avg / total       0.94      0.93      0.92      5209\n",
      "\n",
      "             precision    recall  f1-score   support\n",
      "\n",
      "    shelter       0.95      1.00      0.97      4775\n",
      "\n",
      "avg / total       0.95      0.95      0.94      5209\n",
      "\n",
      "             precision    recall  f1-score   support\n",
      "\n",
      "   clothing       0.99      1.00      1.00      5144\n",
      "\n",
      "avg / total       0.99      0.99      0.99      5209\n",
      "\n",
      "             precision    recall  f1-score   support\n",
      "\n",
      "      money       0.98      1.00      0.99      5059\n",
      "\n",
      "avg / total       0.98      0.98      0.97      5209\n",
      "\n",
      "                precision    recall  f1-score   support\n",
      "\n",
      "missing_people       0.99      1.00      1.00      5147\n",
      "\n",
      "   avg / total       0.99      0.99      0.99      5209\n",
      "\n",
      "             precision    recall  f1-score   support\n",
      "\n",
      "   refugees       0.98      1.00      0.99      5045\n",
      "\n",
      "avg / total       0.98      0.98      0.98      5209\n",
      "\n",
      "             precision    recall  f1-score   support\n",
      "\n",
      "      death       0.97      1.00      0.98      4959\n",
      "\n",
      "avg / total       0.97      0.97      0.96      5209\n",
      "\n",
      "             precision    recall  f1-score   support\n",
      "\n",
      "  other_aid       0.91      1.00      0.95      4527\n",
      "\n",
      "avg / total       0.92      0.91      0.90      5209\n",
      "\n",
      "                        precision    recall  f1-score   support\n",
      "\n",
      "infrastructure_related       0.96      1.00      0.98      4862\n",
      "\n",
      "           avg / total       0.96      0.96      0.95      5209\n",
      "\n",
      "             precision    recall  f1-score   support\n",
      "\n",
      "  transport       0.97      1.00      0.98      4962\n",
      "\n",
      "avg / total       0.97      0.97      0.96      5209\n",
      "\n",
      "             precision    recall  f1-score   support\n",
      "\n",
      "  buildings       0.97      1.00      0.98      4936\n",
      "\n",
      "avg / total       0.97      0.97      0.96      5209\n",
      "\n",
      "             precision    recall  f1-score   support\n",
      "\n",
      "electricity       0.99      1.00      0.99      5111\n",
      "\n",
      "avg / total       0.99      0.99      0.98      5209\n",
      "\n",
      "             precision    recall  f1-score   support\n",
      "\n",
      "      tools       1.00      1.00      1.00      5176\n",
      "\n",
      "avg / total       0.99      1.00      0.99      5209\n",
      "\n",
      "             precision    recall  f1-score   support\n",
      "\n",
      "  hospitals       0.99      1.00      1.00      5151\n",
      "\n",
      "avg / total       0.99      0.99      0.99      5209\n",
      "\n",
      "             precision    recall  f1-score   support\n",
      "\n",
      "      shops       1.00      1.00      1.00      5182\n",
      "\n",
      "avg / total       1.00      1.00      1.00      5209\n",
      "\n",
      "             precision    recall  f1-score   support\n",
      "\n",
      "aid_centers       0.99      1.00      1.00      5148\n",
      "\n",
      "avg / total       0.99      0.99      0.99      5209\n",
      "\n",
      "                      precision    recall  f1-score   support\n",
      "\n",
      "other_infrastructure       0.97      1.00      0.99      4975\n",
      "\n",
      "         avg / total       0.97      0.97      0.97      5209\n",
      "\n",
      "                 precision    recall  f1-score   support\n",
      "\n",
      "weather_related       0.83      0.98      0.90      3740\n",
      "\n",
      "    avg / total       0.86      0.84      0.83      5209\n",
      "\n",
      "             precision    recall  f1-score   support\n",
      "\n",
      "     floods       0.94      1.00      0.97      4759\n",
      "\n",
      "avg / total       0.94      0.94      0.93      5209\n",
      "\n",
      "             precision    recall  f1-score   support\n",
      "\n",
      "      storm       0.94      1.00      0.97      4688\n",
      "\n",
      "avg / total       0.94      0.94      0.92      5209\n",
      "\n",
      "             precision    recall  f1-score   support\n",
      "\n",
      "       fire       0.99      1.00      1.00      5166\n",
      "\n",
      "avg / total       0.99      0.99      0.99      5209\n",
      "\n",
      "             precision    recall  f1-score   support\n",
      "\n",
      " earthquake       0.95      1.00      0.97      4735\n",
      "\n",
      "avg / total       0.95      0.95      0.94      5209\n",
      "\n",
      "             precision    recall  f1-score   support\n",
      "\n",
      "       cold       0.99      1.00      0.99      5109\n",
      "\n",
      "avg / total       0.99      0.99      0.98      5209\n",
      "\n",
      "               precision    recall  f1-score   support\n",
      "\n",
      "other_weather       0.96      1.00      0.98      4914\n",
      "\n",
      "  avg / total       0.96      0.96      0.96      5209\n",
      "\n",
      "               precision    recall  f1-score   support\n",
      "\n",
      "direct_report       0.88      0.99      0.93      4213\n",
      "\n",
      "  avg / total       0.89      0.88      0.87      5209\n",
      "\n",
      "..............................................Finished printing precision recall & f1-score for target columns.\n"
     ]
    },
    {
     "name": "stderr",
     "output_type": "stream",
     "text": [
      "/opt/conda/lib/python3.6/site-packages/sklearn/metrics/classification.py:1428: UserWarning: labels size, 3, does not match size of target_names, 1\n",
      "  .format(len(labels), len(target_names))\n",
      "/opt/conda/lib/python3.6/site-packages/sklearn/metrics/classification.py:1428: UserWarning: labels size, 2, does not match size of target_names, 1\n",
      "  .format(len(labels), len(target_names))\n"
     ]
    }
   ],
   "source": [
    "display_classification_report(y_test,y_pred2,df)"
   ]
  },
  {
   "cell_type": "markdown",
   "metadata": {},
   "source": [
    "### 9. Export your model as a pickle file"
   ]
  },
  {
   "cell_type": "code",
   "execution_count": 46,
   "metadata": {},
   "outputs": [],
   "source": [
    "def save_model(model, model_filepath):\n",
    "    # open the file for writing\n",
    "    fileObject = open(model_filepath,'wb')\n",
    "    # this writes the object a to the\n",
    "    pickle.dump(model, fileObject)\n",
    "    # # here we close the fileObject\n",
    "    fileObject.close()"
   ]
  },
  {
   "cell_type": "code",
   "execution_count": 72,
   "metadata": {},
   "outputs": [],
   "source": [
    "#trial code\n",
    "# file_Name = \"GridSearchModel.pkl\"\n",
    "# # open the file for writing\n",
    "# fileObject = open(file_Name,'wb')\n",
    "# # this writes the object a to the\n",
    "# pickle.dump(cv2,fileObject)\n",
    "# # # here we close the fileObject\n",
    "# fileObject.close()"
   ]
  },
  {
   "cell_type": "code",
   "execution_count": 39,
   "metadata": {},
   "outputs": [],
   "source": [
    "save_model(model1,'model1_pickle_file.pkl')"
   ]
  },
  {
   "cell_type": "code",
   "execution_count": 48,
   "metadata": {},
   "outputs": [],
   "source": [
    "# we open the file for reading\n",
    "fileObject = open('model1_pickle_file.pkl','rb')\n",
    "# load the object from the file into var b\n",
    "model1 = pickle.load(fileObject)"
   ]
  },
  {
   "cell_type": "code",
   "execution_count": 49,
   "metadata": {},
   "outputs": [
    {
     "data": {
      "text/plain": [
       "0.14078625258004129"
      ]
     },
     "execution_count": 49,
     "metadata": {},
     "output_type": "execute_result"
    }
   ],
   "source": [
    "model1.best_score_"
   ]
  },
  {
   "cell_type": "markdown",
   "metadata": {},
   "source": [
    "### 10. Use this notebook to complete `train.py`\n",
    "Use the template file attached in the Resources folder to write a script that runs the steps above to create a database and export a model based on a new dataset specified by the user."
   ]
  }
 ],
 "metadata": {
  "kernelspec": {
   "display_name": "Python 3",
   "language": "python",
   "name": "python3"
  },
  "language_info": {
   "codemirror_mode": {
    "name": "ipython",
    "version": 3
   },
   "file_extension": ".py",
   "mimetype": "text/x-python",
   "name": "python",
   "nbconvert_exporter": "python",
   "pygments_lexer": "ipython3",
   "version": "3.6.3"
  }
 },
 "nbformat": 4,
 "nbformat_minor": 2
}
