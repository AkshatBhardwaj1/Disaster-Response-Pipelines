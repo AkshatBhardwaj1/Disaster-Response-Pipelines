{
 "cells": [
  {
   "cell_type": "markdown",
   "metadata": {},
   "source": [
    "# ML Pipeline Preparation\n",
    "Follow the instructions below to help you create your ML pipeline.\n",
    "### 1. Import libraries and load data from database.\n",
    "- Import Python libraries\n",
    "- Load dataset from database with [`read_sql_table`](https://pandas.pydata.org/pandas-docs/stable/generated/pandas.read_sql_table.html)\n",
    "- Define feature and target variables X and Y"
   ]
  },
  {
   "cell_type": "code",
   "execution_count": 1,
   "metadata": {},
   "outputs": [
    {
     "name": "stdout",
     "output_type": "stream",
     "text": [
      "[nltk_data] Downloading package punkt to /root/nltk_data...\n",
      "[nltk_data]   Unzipping tokenizers/punkt.zip.\n",
      "[nltk_data] Downloading package wordnet to /root/nltk_data...\n",
      "[nltk_data]   Unzipping corpora/wordnet.zip.\n"
     ]
    },
    {
     "data": {
      "text/plain": [
       "True"
      ]
     },
     "execution_count": 1,
     "metadata": {},
     "output_type": "execute_result"
    }
   ],
   "source": [
    "# import libraries\n",
    "import nltk\n",
    "nltk.download(['punkt', 'wordnet'])"
   ]
  },
  {
   "cell_type": "code",
   "execution_count": 2,
   "metadata": {},
   "outputs": [
    {
     "name": "stdout",
     "output_type": "stream",
     "text": [
      "[nltk_data] Downloading package stopwords to /root/nltk_data...\n",
      "[nltk_data]   Unzipping corpora/stopwords.zip.\n"
     ]
    }
   ],
   "source": [
    "import re\n",
    "import numpy as np\n",
    "import pandas as pd\n",
    "from time import time\n",
    "from nltk.tokenize import word_tokenize\n",
    "from nltk.stem import WordNetLemmatizer\n",
    "from nltk.corpus import stopwords\n",
    "nltk.download('stopwords')\n",
    "from nltk.stem.porter import PorterStemmer\n",
    "\n",
    "from sklearn.pipeline import Pipeline\n",
    "from sklearn.metrics import confusion_matrix, precision_score,recall_score, classification_report\n",
    "from sklearn.model_selection import train_test_split\n",
    "from sklearn.ensemble import RandomForestClassifier\n",
    "from sklearn.multioutput import MultiOutputClassifier\n",
    "\n",
    "from sklearn.feature_extraction.text import CountVectorizer, TfidfTransformer\n",
    "\n",
    "import sqlite3\n",
    "from sqlalchemy import create_engine\n",
    "from pathlib import Path"
   ]
  },
  {
   "cell_type": "code",
   "execution_count": 3,
   "metadata": {},
   "outputs": [
    {
     "name": "stdout",
     "output_type": "stream",
     "text": [
      "1\n"
     ]
    }
   ],
   "source": [
    "import multiprocessing\n",
    "print(multiprocessing.cpu_count())"
   ]
  },
  {
   "cell_type": "code",
   "execution_count": 4,
   "metadata": {},
   "outputs": [],
   "source": [
    "# load data from database\n",
    "conn = sqlite3.connect('ETLPipelineDatabase.db')\n",
    "engine = create_engine('sqlite:///ETLPipelineDatabase.db')\n",
    "df = pd.read_sql('select * from ETLPipeline_Table',con=conn)\n",
    "df.drop(['level_0','index'],axis=1,inplace=True)\n",
    "X = df['message'].values # text array\n",
    "Y = df.iloc[:,4:].values # text array"
   ]
  },
  {
   "cell_type": "code",
   "execution_count": 5,
   "metadata": {},
   "outputs": [
    {
     "name": "stdout",
     "output_type": "stream",
     "text": [
      "Weather update - a cold front from Cuba that could pass over Haiti (26042,)\n",
      "[1 0 0 0 0 0 0 0 0 0 0 0 0 0 0 0 0 0 0 0 0 0 0 0 0 0 0 0 0 0 0 0 0 0 0 0] (26042, 36)\n"
     ]
    }
   ],
   "source": [
    "print(X[0],X.shape)\n",
    "print (Y[0],Y.shape)"
   ]
  },
  {
   "cell_type": "code",
   "execution_count": 6,
   "metadata": {},
   "outputs": [
    {
     "data": {
      "text/plain": [
       "news      12901\n",
       "direct    10747\n",
       "social     2394\n",
       "Name: genre, dtype: int64"
      ]
     },
     "execution_count": 6,
     "metadata": {},
     "output_type": "execute_result"
    }
   ],
   "source": [
    "df['genre'].value_counts()#Categorial values"
   ]
  },
  {
   "cell_type": "markdown",
   "metadata": {},
   "source": [
    "### 2. Write a tokenization function to process your text data"
   ]
  },
  {
   "cell_type": "code",
   "execution_count": 7,
   "metadata": {},
   "outputs": [],
   "source": [
    "# print(X[100])\n",
    "# text = re.sub(r\"[^a-zA-Z0-9]\", \" \", X[100].lower())\n",
    "# print(text)\n",
    "# #text = text.split()\n",
    "# words = word_tokenize(text)\n",
    "# print(words)\n",
    "# # Remove stop words\n",
    "# words = [w for w in words if w not in stopwords.words(\"english\")]\n",
    "# print(words)\n",
    "# # Reduce words to their root form\n",
    "# lemmed = [WordNetLemmatizer().lemmatize(w) for w in words]\n",
    "# print(lemmed)"
   ]
  },
  {
   "cell_type": "markdown",
   "metadata": {},
   "source": [
    "    Function tokenize that takes in a string of text and applies the following:\n",
    "\n",
    "    case normalization (convert to all lowercase)\n",
    "    punctuation removal\n",
    "    tokenization, lemmatization, and stop word removal using nltk"
   ]
  },
  {
   "cell_type": "code",
   "execution_count": 8,
   "metadata": {},
   "outputs": [],
   "source": [
    "def tokenize(text):\n",
    "    # Remove punctuation characters\n",
    "    # Normalize text\n",
    "    text = re.sub(r\"[^a-zA-Z0-9]\", \" \", text.lower())\n",
    "    words = word_tokenize(text)\n",
    "    # Remove stop words\n",
    "    words = [w for w in words if w not in stopwords.words(\"english\")]\n",
    "    # Reduce words to their root form\n",
    "    lemmed = [WordNetLemmatizer().lemmatize(w) for w in words]\n",
    "    \n",
    "    return lemmed"
   ]
  },
  {
   "cell_type": "markdown",
   "metadata": {},
   "source": [
    "### 3. Build a machine learning pipeline\n",
    "- You'll find the [MultiOutputClassifier](http://scikit-learn.org/stable/modules/generated/sklearn.multioutput.MultiOutputClassifier.html) helpful for predicting multiple target variables."
   ]
  },
  {
   "cell_type": "code",
   "execution_count": 9,
   "metadata": {},
   "outputs": [],
   "source": [
    "pipeline = Pipeline([\n",
    "    ('vect', CountVectorizer(tokenizer=tokenize)),\n",
    "    ('tfidf', TfidfTransformer()),\n",
    "    ('MOC', MultiOutputClassifier(RandomForestClassifier()))\n",
    "])"
   ]
  },
  {
   "cell_type": "markdown",
   "metadata": {},
   "source": [
    "### 4. Train pipeline\n",
    "- Split data into train and test sets\n",
    "- Train pipeline"
   ]
  },
  {
   "cell_type": "code",
   "execution_count": 10,
   "metadata": {},
   "outputs": [
    {
     "name": "stderr",
     "output_type": "stream",
     "text": [
      "/opt/conda/lib/python3.6/site-packages/sklearn/cross_validation.py:41: DeprecationWarning: This module was deprecated in version 0.18 in favor of the model_selection module into which all the refactored classes and functions are moved. Also note that the interface of the new CV iterators are different from that of this module. This module will be removed in 0.20.\n",
      "  \"This module will be removed in 0.20.\", DeprecationWarning)\n"
     ]
    }
   ],
   "source": [
    "from sklearn import cross_validation"
   ]
  },
  {
   "cell_type": "code",
   "execution_count": 11,
   "metadata": {},
   "outputs": [],
   "source": [
    "def display_results(y_test, y_pred):\n",
    "    \"\"\"\n",
    "    Function to display single output single target output.\n",
    "    \"\"\"\n",
    "    labels = np.unique(y_pred)\n",
    "    confusion_mat = confusion_matrix(y_test, y_pred, labels=labels)\n",
    "    accuracy = (y_pred == y_test).mean()\n",
    "\n",
    "    print(\"Labels:\", labels)\n",
    "    print(\"Confusion Matrix:\\n\", confusion_mat)\n",
    "    print(\"Accuracy:\", accuracy)\n",
    "    print(\"Precision score:\", precision_score(y_test, y_pred))\n",
    "    print(\"Recall score:\", recall_score(y_test, y_pred))"
   ]
  },
  {
   "cell_type": "code",
   "execution_count": 12,
   "metadata": {},
   "outputs": [
    {
     "name": "stdout",
     "output_type": "stream",
     "text": [
      "Training..........\n",
      "Named_steps: {'vect': CountVectorizer(analyzer='word', binary=False, decode_error='strict',\n",
      "        dtype=<class 'numpy.int64'>, encoding='utf-8', input='content',\n",
      "        lowercase=True, max_df=1.0, max_features=None, min_df=1,\n",
      "        ngram_range=(1, 1), preprocessor=None, stop_words=None,\n",
      "        strip_accents=None, token_pattern='(?u)\\\\b\\\\w\\\\w+\\\\b',\n",
      "        tokenizer=<function tokenize at 0x7f3d13c60598>, vocabulary=None), 'tfidf': TfidfTransformer(norm='l2', smooth_idf=True, sublinear_tf=False, use_idf=True), 'MOC': MultiOutputClassifier(estimator=RandomForestClassifier(bootstrap=True, class_weight=None, criterion='gini',\n",
      "            max_depth=None, max_features='auto', max_leaf_nodes=None,\n",
      "            min_impurity_decrease=0.0, min_impurity_split=None,\n",
      "            min_samples_leaf=1, min_samples_split=2,\n",
      "            min_weight_fraction_leaf=0.0, n_estimators=10, n_jobs=1,\n",
      "            oob_score=False, random_state=None, verbose=0,\n",
      "            warm_start=False),\n",
      "           n_jobs=1)}\n",
      "Score: <function Pipeline.score at 0x7f3d516b31e0>\n",
      "Get Params: <bound method Pipeline.get_params of Pipeline(memory=None,\n",
      "     steps=[('vect', CountVectorizer(analyzer='word', binary=False, decode_error='strict',\n",
      "        dtype=<class 'numpy.int64'>, encoding='utf-8', input='content',\n",
      "        lowercase=True, max_df=1.0, max_features=None, min_df=1,\n",
      "        ngram_range=(1, 1), preprocessor=None, stop_words=None,\n",
      "        strip...oob_score=False, random_state=None, verbose=0,\n",
      "            warm_start=False),\n",
      "           n_jobs=1))])>\n",
      "Time taken: 247.01670122146606\n",
      "....................finished training\n"
     ]
    }
   ],
   "source": [
    "#Split data into train and test sets\n",
    "X_train, X_test, y_train, y_test = train_test_split(X, Y,test_size=0.2)\n",
    "\n",
    "##train classifier\n",
    "\n",
    "start = time()\n",
    "\n",
    "print('Training..........')\n",
    "pipeline.fit(X_train,y_train)\n",
    "print('Named_steps: {}'.format(pipeline.named_steps),\n",
    "      'Score: {}'.format (pipeline.score),\n",
    "      'Get Params: {}'.format (pipeline.get_params),sep='\\n')\n",
    "#pipeline.steps\n",
    "\n",
    "\n",
    "print('Time taken: {}'.format(time()-start))\n",
    "print('....................finished training')"
   ]
  },
  {
   "cell_type": "code",
   "execution_count": 13,
   "metadata": {},
   "outputs": [
    {
     "name": "stdout",
     "output_type": "stream",
     "text": [
      "Predicting..........\n",
      "..................................finished predicting\n"
     ]
    }
   ],
   "source": [
    "# predict on test data\n",
    "print('Predicting..........')\n",
    "y_pred = pipeline.predict(X_test)\n",
    "print('..................................finished predicting')"
   ]
  },
  {
   "cell_type": "code",
   "execution_count": 15,
   "metadata": {},
   "outputs": [
    {
     "name": "stdout",
     "output_type": "stream",
     "text": [
      "Evaluating ...........\n",
      "Labels: [0 1]\n",
      "Confusion Matrix:\n",
      " [[4183  118]\n",
      " [ 819   89]]\n",
      "Accuracy: 0.820119024765\n",
      "Precision score: 0.429951690821\n",
      "Recall score: 0.0980176211454\n"
     ]
    }
   ],
   "source": [
    "print('Evaluating ...........')\n",
    "display_results(y_test[:,1], y_pred[:,1])\n",
    "#precision_score(y_test[:,10], y_pred[:,10])\n",
    "#recall_score(y_test[:,10], y_pred[:,10])\n",
    "# print(precision_score(y_test[:,10], y_pred[:,10]))\n",
    "# print (recall_score(y_test[:,10], y_pred[:,10]))"
   ]
  },
  {
   "cell_type": "markdown",
   "metadata": {},
   "source": [
    "### 5. Test your model\n",
    "Report the f1 score, precision and recall for each output category of the dataset. You can do this by iterating through the columns and calling sklearn's `classification_report` on each."
   ]
  },
  {
   "cell_type": "code",
   "execution_count": 17,
   "metadata": {},
   "outputs": [
    {
     "name": "stdout",
     "output_type": "stream",
     "text": [
      "(5209, 36) (5209, 36)\n"
     ]
    }
   ],
   "source": [
    "print(y_test.shape, y_pred.shape)"
   ]
  },
  {
   "cell_type": "code",
   "execution_count": 18,
   "metadata": {},
   "outputs": [
    {
     "name": "stdout",
     "output_type": "stream",
     "text": [
      "             precision    recall  f1-score   support\n",
      "\n",
      "          0       0.72      1.00      0.84        26\n",
      "          1       0.00      0.00      0.00        10\n",
      "\n",
      "avg / total       0.52      0.72      0.61        36\n",
      "\n"
     ]
    },
    {
     "name": "stderr",
     "output_type": "stream",
     "text": [
      "/opt/conda/lib/python3.6/site-packages/sklearn/metrics/classification.py:1135: UndefinedMetricWarning: Precision and F-score are ill-defined and being set to 0.0 in labels with no predicted samples.\n",
      "  'precision', 'predicted', average, warn_for)\n"
     ]
    }
   ],
   "source": [
    "print(classification_report(y_test[100], y_pred[100]))"
   ]
  },
  {
   "cell_type": "code",
   "execution_count": 19,
   "metadata": {},
   "outputs": [],
   "source": [
    "# columns = df.iloc[:,4:].columns\n",
    "# i = 0\n",
    "# report = []\n",
    "# for col in columns:\n",
    "#     for i in range(y_pred.shape[1]):\n",
    "#         #print(classification_report(y_test[i], y_pred[i],target_names =df.iloc[:,4:]))\n",
    "#         report.append(classification_report(y_test[i], y_pred[i],target_names =[col]))\n",
    "#         #print(classification_report(y_test[i], y_pred[i],target_names =[col]))\n",
    "#         #i += 1\n",
    "#         #print(i)\n",
    "#         #print(*report,sep='\\n',end=',')\n",
    "\n",
    "# print(*report,sep='\\n',end=',')"
   ]
  },
  {
   "cell_type": "code",
   "execution_count": 20,
   "metadata": {},
   "outputs": [
    {
     "name": "stdout",
     "output_type": "stream",
     "text": [
      "Evaluating ...........\n",
      "Printing precision score, recall score & f1-score for target columns...............\n",
      "             precision    recall  f1-score   support\n",
      "\n",
      "    related       0.84      0.96      0.90        28\n",
      "\n",
      "avg / total       0.82      0.83      0.81        36\n",
      "\n",
      "             precision    recall  f1-score   support\n",
      "\n",
      "    request       0.88      1.00      0.93        28\n",
      "\n",
      "avg / total       0.90      0.89      0.87        36\n",
      "\n",
      "             precision    recall  f1-score   support\n",
      "\n",
      "      offer       0.91      1.00      0.96        32\n",
      "\n",
      "avg / total       0.92      0.92      0.89        36\n",
      "\n",
      "             precision    recall  f1-score   support\n",
      "\n",
      "aid_related       0.86      1.00      0.93        31\n",
      "\n",
      "avg / total       0.74      0.86      0.80        36\n",
      "\n",
      "              precision    recall  f1-score   support\n",
      "\n",
      "medical_help       1.00      0.97      0.99        36\n",
      "\n",
      " avg / total       1.00      0.97      0.99        36\n",
      "\n",
      "                  precision    recall  f1-score   support\n",
      "\n",
      "medical_products       0.88      1.00      0.94        29\n",
      "\n",
      "     avg / total       0.90      0.89      0.87        36\n",
      "\n",
      "                   precision    recall  f1-score   support\n",
      "\n",
      "search_and_rescue       0.94      1.00      0.97        33\n",
      "\n",
      "      avg / total       0.95      0.94      0.93        36\n",
      "\n",
      "             precision    recall  f1-score   support\n",
      "\n",
      "   security       0.94      0.97      0.96        33\n",
      "\n",
      "avg / total       0.90      0.92      0.91        36\n",
      "\n",
      "             precision    recall  f1-score   support\n",
      "\n",
      "   military       0.80      1.00      0.89        28\n",
      "\n",
      "avg / total       0.84      0.81      0.74        36\n",
      "\n",
      "             precision    recall  f1-score   support\n",
      "\n",
      "child_alone       1.00      0.97      0.99        35\n",
      "\n",
      "avg / total       0.99      0.97      0.98        36\n",
      "\n",
      "             precision    recall  f1-score   support\n",
      "\n",
      "      water       1.00      0.97      0.99        36\n",
      "\n",
      "avg / total       1.00      0.97      0.99        36\n",
      "\n",
      "             precision    recall  f1-score   support\n",
      "\n",
      "       food       1.00      1.00      1.00        35\n",
      "\n",
      "avg / total       1.00      1.00      1.00        36\n",
      "\n",
      "             precision    recall  f1-score   support\n",
      "\n",
      "    shelter       0.80      1.00      0.89        28\n",
      "\n",
      "avg / total       0.84      0.81      0.74        36\n",
      "\n",
      "             precision    recall  f1-score   support\n",
      "\n",
      "   clothing       0.89      1.00      0.94        32\n",
      "\n",
      "avg / total       0.79      0.89      0.84        36\n",
      "\n",
      "             precision    recall  f1-score   support\n",
      "\n",
      "      money       0.91      1.00      0.95        30\n",
      "\n",
      "avg / total       0.92      0.92      0.90        36\n",
      "\n",
      "                precision    recall  f1-score   support\n",
      "\n",
      "missing_people       1.00      0.97      0.99        36\n",
      "\n",
      "   avg / total       1.00      0.97      0.99        36\n",
      "\n",
      "             precision    recall  f1-score   support\n",
      "\n",
      "   refugees       0.86      1.00      0.92        30\n",
      "\n",
      "avg / total       0.88      0.86      0.82        36\n",
      "\n",
      "             precision    recall  f1-score   support\n",
      "\n",
      "      death       0.89      1.00      0.94        31\n",
      "\n",
      "avg / total       0.90      0.89      0.86        36\n",
      "\n",
      "             precision    recall  f1-score   support\n",
      "\n",
      "  other_aid       1.00      0.97      0.99        36\n",
      "\n",
      "avg / total       1.00      0.97      0.99        36\n",
      "\n",
      "                        precision    recall  f1-score   support\n",
      "\n",
      "infrastructure_related       1.00      1.00      1.00        35\n",
      "\n",
      "           avg / total       0.97      0.97      0.97        36\n",
      "\n",
      "             precision    recall  f1-score   support\n",
      "\n",
      "  transport       1.00      0.97      0.99        36\n",
      "\n",
      "avg / total       1.00      0.97      0.99        36\n",
      "\n",
      "             precision    recall  f1-score   support\n",
      "\n",
      "  buildings       0.94      0.94      0.94        32\n",
      "\n",
      "avg / total       0.89      0.89      0.89        36\n",
      "\n",
      "             precision    recall  f1-score   support\n",
      "\n",
      "electricity       0.76      1.00      0.87        26\n",
      "\n",
      "avg / total       0.83      0.78      0.72        36\n",
      "\n",
      "             precision    recall  f1-score   support\n",
      "\n",
      "      tools       0.88      1.00      0.94        29\n",
      "\n",
      "avg / total       0.90      0.89      0.87        36\n",
      "\n",
      "             precision    recall  f1-score   support\n",
      "\n",
      "  hospitals       0.94      1.00      0.97        33\n",
      "\n",
      "avg / total       0.95      0.94      0.93        36\n",
      "\n",
      "             precision    recall  f1-score   support\n",
      "\n",
      "      shops       0.72      1.00      0.84        26\n",
      "\n",
      "avg / total       0.52      0.72      0.61        36\n",
      "\n",
      "             precision    recall  f1-score   support\n",
      "\n",
      "aid_centers       1.00      1.00      1.00        35\n",
      "\n",
      "avg / total       1.00      1.00      1.00        36\n",
      "\n",
      "                      precision    recall  f1-score   support\n",
      "\n",
      "other_infrastructure       0.82      1.00      0.90        27\n",
      "\n",
      "         avg / total       0.86      0.83      0.80        36\n",
      "\n",
      "                 precision    recall  f1-score   support\n",
      "\n",
      "weather_related       1.00      0.97      0.99        36\n",
      "\n",
      "    avg / total       1.00      0.97      0.99        36\n",
      "\n",
      "             precision    recall  f1-score   support\n",
      "\n",
      "     floods       0.85      1.00      0.92        29\n",
      "\n",
      "avg / total       0.88      0.86      0.83        36\n",
      "\n",
      "             precision    recall  f1-score   support\n",
      "\n",
      "      storm       1.00      1.00      1.00        35\n",
      "\n",
      "avg / total       1.00      1.00      1.00        36\n",
      "\n",
      "             precision    recall  f1-score   support\n",
      "\n",
      "       fire       1.00      0.97      0.99        36\n",
      "\n",
      "avg / total       1.00      0.97      0.99        36\n",
      "\n",
      "             precision    recall  f1-score   support\n",
      "\n",
      " earthquake       0.86      1.00      0.92        30\n",
      "\n",
      "avg / total       0.88      0.86      0.82        36\n",
      "\n",
      "             precision    recall  f1-score   support\n",
      "\n",
      "       cold       0.86      1.00      0.93        31\n",
      "\n",
      "avg / total       0.74      0.86      0.80        36\n",
      "\n",
      "               precision    recall  f1-score   support\n",
      "\n",
      "other_weather       1.00      0.86      0.93        36\n",
      "\n",
      "  avg / total       1.00      0.86      0.93        36\n",
      "\n",
      "               precision    recall  f1-score   support\n",
      "\n",
      "direct_report       0.91      1.00      0.95        31\n",
      "\n",
      "  avg / total       0.92      0.92      0.90        36\n",
      "\n",
      "..............................................Finished printing precision recall & f1-score for target columns.\n"
     ]
    },
    {
     "name": "stderr",
     "output_type": "stream",
     "text": [
      "/opt/conda/lib/python3.6/site-packages/sklearn/metrics/classification.py:1428: UserWarning: labels size, 2, does not match size of target_names, 1\n",
      "  .format(len(labels), len(target_names))\n",
      "/opt/conda/lib/python3.6/site-packages/sklearn/metrics/classification.py:1135: UndefinedMetricWarning: Precision and F-score are ill-defined and being set to 0.0 in labels with no predicted samples.\n",
      "  'precision', 'predicted', average, warn_for)\n",
      "/opt/conda/lib/python3.6/site-packages/sklearn/metrics/classification.py:1137: UndefinedMetricWarning: Recall and F-score are ill-defined and being set to 0.0 in labels with no true samples.\n",
      "  'recall', 'true', average, warn_for)\n",
      "/opt/conda/lib/python3.6/site-packages/sklearn/metrics/classification.py:1428: UserWarning: labels size, 3, does not match size of target_names, 1\n",
      "  .format(len(labels), len(target_names))\n"
     ]
    }
   ],
   "source": [
    "def display_classification_report(y_test,y_pred,df):\n",
    "    \n",
    "    \"\"\"\"Function to print multi-label multioutput metrics using sklearn.metrics.classification_report.\n",
    "    Docstring-\n",
    "    Input parameters:\n",
    "    y_test- y testing set from training and testing split.\n",
    "    y_pred- predictions results after model prediction.\n",
    "    df - original clean dataframe with column names to extract 36 column names as target labels.\n",
    "\n",
    "    Output - print display precision score, recall score & f1-score for target columns\n",
    "    \"\"\"\n",
    "    # Loop to evaluate metrics per column.\n",
    "    print ('Printing precision score, recall score & f1-score for target columns...............')\n",
    "    columns = df.iloc[:,4:].columns\n",
    "    i = 0\n",
    "    report = []\n",
    "    for col in columns:\n",
    "        report.append(classification_report(y_test[i], y_pred[i],target_names =[col]))\n",
    "        i+=1\n",
    "\n",
    "\n",
    "    print(*report,sep='\\n',end='\\n')\n",
    "    print ('..............................................Finished printing precision recall & f1-score for target columns.')\n",
    "    \n",
    "    \n",
    "###Evaluate\n",
    "print('Evaluating ...........')\n",
    "display_classification_report(y_test,y_pred,df)"
   ]
  },
  {
   "cell_type": "code",
   "execution_count": 21,
   "metadata": {},
   "outputs": [],
   "source": [
    "# for i in range(y_pred.shape[1]):\n",
    "#     print(classification_report(y_test[i], y_pred[i],target_names =df.iloc[:,4:]))"
   ]
  },
  {
   "cell_type": "markdown",
   "metadata": {},
   "source": [
    "### 6. Improve your model\n",
    "Use grid search to find better parameters. "
   ]
  },
  {
   "cell_type": "code",
   "execution_count": 22,
   "metadata": {},
   "outputs": [
    {
     "name": "stdout",
     "output_type": "stream",
     "text": [
      "[nltk_data] Downloading package averaged_perceptron_tagger to\n",
      "[nltk_data]     /root/nltk_data...\n",
      "[nltk_data]   Unzipping taggers/averaged_perceptron_tagger.zip.\n"
     ]
    },
    {
     "data": {
      "text/plain": [
       "True"
      ]
     },
     "execution_count": 22,
     "metadata": {},
     "output_type": "execute_result"
    }
   ],
   "source": [
    "from sklearn.pipeline import Pipeline, FeatureUnion\n",
    "from sklearn.base import BaseEstimator, TransformerMixin\n",
    "from sklearn.model_selection import GridSearchCV\n",
    "from sklearn.linear_model import RidgeClassifierCV\n",
    "import nltk\n",
    "nltk.download('averaged_perceptron_tagger')"
   ]
  },
  {
   "cell_type": "code",
   "execution_count": 23,
   "metadata": {},
   "outputs": [],
   "source": [
    "def build_model():\n",
    "    pipeline1 = Pipeline([\n",
    "        ('vect', CountVectorizer(tokenizer=tokenize)),\n",
    "        ('tfidf', TfidfTransformer()),\n",
    "        ('clf', MultiOutputClassifier(RandomForestClassifier()))\n",
    "    ])\n",
    "    parameters = {\n",
    "        'vect__ngram_range': ((1,1),(1, 2)),\n",
    "        'vect__max_df': [1.0],\n",
    "        'vect__min_df' : [1],\n",
    "        'tfidf__norm' : ['l2'],\n",
    "        'tfidf__use_idf' : ['True'],\n",
    "        'clf__estimator__min_samples_split': [2],\n",
    "        'clf__estimator__n_estimators': [100],\n",
    "        'clf__estimator__max_features': ['auto'],\n",
    "        'clf__estimator__criterion': ['gini'],\n",
    "        #'clf__estimator__class_weight' : [{0: 1, 1: 1}]\n",
    "    }\n",
    "    \n",
    "    \n",
    "    cv = GridSearchCV(pipeline1, param_grid = parameters, verbose = 1, n_jobs=-1)\n",
    "    \n",
    "    return cv"
   ]
  },
  {
   "cell_type": "code",
   "execution_count": 24,
   "metadata": {},
   "outputs": [
    {
     "name": "stdout",
     "output_type": "stream",
     "text": [
      "Training using Grid Search.........\n",
      "Time taken: 0.0017247200012207031\n",
      "...........................................finished training\n"
     ]
    }
   ],
   "source": [
    "# Train using GridSearch\n",
    "print('Training using Grid Search.........')\n",
    "start = time()\n",
    "\n",
    "model1 = build_model()\n",
    "#model1.fit(X_train,y_train)\n",
    "\n",
    "print('Time taken: {}'.format(time()-start))\n",
    "print('...........................................finished training')"
   ]
  },
  {
   "cell_type": "code",
   "execution_count": 25,
   "metadata": {},
   "outputs": [
    {
     "name": "stdout",
     "output_type": "stream",
     "text": [
      "predicting.........\n"
     ]
    }
   ],
   "source": [
    "print('predicting.........')\n",
    "#y_pred1 = model.predict(X_test)"
   ]
  },
  {
   "cell_type": "markdown",
   "metadata": {},
   "source": [
    "### 7. Test your model\n",
    "Show the accuracy, precision, and recall of the tuned model.  \n",
    "\n",
    "Since this project focuses on code quality, process, and  pipelines, there is no minimum performance metric needed to pass. However, make sure to fine tune your models for accuracy, precision and recall to make your project stand out - especially for your portfolio!"
   ]
  },
  {
   "cell_type": "code",
   "execution_count": 31,
   "metadata": {},
   "outputs": [
    {
     "ename": "NameError",
     "evalue": "name 'y_pred1' is not defined",
     "output_type": "error",
     "traceback": [
      "\u001b[0;31m---------------------------------------------------------------------------\u001b[0m",
      "\u001b[0;31mNameError\u001b[0m                                 Traceback (most recent call last)",
      "\u001b[0;32m<ipython-input-31-379b486c6781>\u001b[0m in \u001b[0;36m<module>\u001b[0;34m()\u001b[0m\n\u001b[0;32m----> 1\u001b[0;31m \u001b[0mdisplay_classification_report\u001b[0m\u001b[0;34m(\u001b[0m\u001b[0my_test\u001b[0m\u001b[0;34m,\u001b[0m\u001b[0my_pred1\u001b[0m\u001b[0;34m,\u001b[0m\u001b[0mdf\u001b[0m\u001b[0;34m)\u001b[0m\u001b[0;34m\u001b[0m\u001b[0m\n\u001b[0m",
      "\u001b[0;31mNameError\u001b[0m: name 'y_pred1' is not defined"
     ]
    }
   ],
   "source": [
    "#display_classification_report(y_test,y_pred1,df)"
   ]
  },
  {
   "cell_type": "markdown",
   "metadata": {},
   "source": [
    "### 8. Try improving your model further. Here are a few ideas:\n",
    "* try other machine learning algorithms\n",
    "* add other features besides the TF-IDF"
   ]
  },
  {
   "cell_type": "code",
   "execution_count": 26,
   "metadata": {},
   "outputs": [],
   "source": [
    "#from sklearn.linear_model import RidgeClassifierCV\n",
    "from sklearn.ensemble import RandomForestClassifier"
   ]
  },
  {
   "cell_type": "code",
   "execution_count": 27,
   "metadata": {},
   "outputs": [
    {
     "data": {
      "text/plain": [
       "GridSearchCV(cv=None, error_score='raise',\n",
       "       estimator=Pipeline(memory=None,\n",
       "     steps=[('vect', CountVectorizer(analyzer='word', binary=False, decode_error='strict',\n",
       "        dtype=<class 'numpy.int64'>, encoding='utf-8', input='content',\n",
       "        lowercase=True, max_df=1.0, max_features=None, min_df=1,\n",
       "        ngram_range=(1, 1), preprocessor=None, stop_words=None,\n",
       "        strip...oob_score=False, random_state=None, verbose=0,\n",
       "            warm_start=False),\n",
       "           n_jobs=1))]),\n",
       "       fit_params=None, iid=True, n_jobs=-1,\n",
       "       param_grid={'vect__ngram_range': ((1, 1), (1, 2)), 'clf__estimator__n_estimators': [50]},\n",
       "       pre_dispatch='2*n_jobs', refit=True, return_train_score='warn',\n",
       "       scoring=None, verbose=1)"
      ]
     },
     "execution_count": 27,
     "metadata": {},
     "output_type": "execute_result"
    }
   ],
   "source": [
    "pipeline2 = Pipeline([\n",
    "    ('vect', CountVectorizer(tokenizer=tokenize)),\n",
    "    ('clf',  MultiOutputClassifier(RandomForestClassifier()))\n",
    "])\n",
    "tuned_parameters = {\n",
    "    'vect__ngram_range': ((1,1),(1, 2)),\n",
    "    #'vect__max_df': [0.5],\n",
    "    #'vect__min_df' : [1],\n",
    "    'clf__estimator__n_estimators' : [50]\n",
    "}\n",
    "\n",
    "\n",
    "cv2 = GridSearchCV(pipeline2, param_grid = tuned_parameters, verbose = 1, n_jobs=-1)\n",
    "cv2"
   ]
  },
  {
   "cell_type": "code",
   "execution_count": 28,
   "metadata": {},
   "outputs": [],
   "source": [
    "#Split data into train and test sets\n",
    "X_train, X_test, y_train, y_test = train_test_split(X, Y,test_size=0.5)"
   ]
  },
  {
   "cell_type": "code",
   "execution_count": 29,
   "metadata": {},
   "outputs": [
    {
     "name": "stdout",
     "output_type": "stream",
     "text": [
      "Fitting 3 folds for each of 2 candidates, totalling 6 fits\n"
     ]
    },
    {
     "name": "stderr",
     "output_type": "stream",
     "text": [
      "[Parallel(n_jobs=-1)]: Done   6 out of   6 | elapsed: 42.9min finished\n"
     ]
    },
    {
     "data": {
      "text/plain": [
       "GridSearchCV(cv=None, error_score='raise',\n",
       "       estimator=Pipeline(memory=None,\n",
       "     steps=[('vect', CountVectorizer(analyzer='word', binary=False, decode_error='strict',\n",
       "        dtype=<class 'numpy.int64'>, encoding='utf-8', input='content',\n",
       "        lowercase=True, max_df=1.0, max_features=None, min_df=1,\n",
       "        ngram_range=(1, 1), preprocessor=None, stop_words=None,\n",
       "        strip...oob_score=False, random_state=None, verbose=0,\n",
       "            warm_start=False),\n",
       "           n_jobs=1))]),\n",
       "       fit_params=None, iid=True, n_jobs=-1,\n",
       "       param_grid={'vect__ngram_range': ((1, 1), (1, 2)), 'clf__estimator__n_estimators': [50]},\n",
       "       pre_dispatch='2*n_jobs', refit=True, return_train_score='warn',\n",
       "       scoring=None, verbose=1)"
      ]
     },
     "execution_count": 29,
     "metadata": {},
     "output_type": "execute_result"
    }
   ],
   "source": [
    "#Train\n",
    "cv2.fit(X_train,y_train)"
   ]
  },
  {
   "cell_type": "code",
   "execution_count": 30,
   "metadata": {},
   "outputs": [
    {
     "data": {
      "text/plain": [
       "array([[1, 0, 0, ..., 0, 0, 0],\n",
       "       [1, 0, 0, ..., 0, 0, 0],\n",
       "       [1, 0, 0, ..., 0, 0, 1],\n",
       "       ..., \n",
       "       [1, 0, 0, ..., 0, 0, 0],\n",
       "       [1, 0, 0, ..., 0, 0, 0],\n",
       "       [1, 0, 0, ..., 0, 0, 0]])"
      ]
     },
     "execution_count": 30,
     "metadata": {},
     "output_type": "execute_result"
    }
   ],
   "source": [
    "#predict on test data\n",
    "y_pred2 = cv2.predict(X_test)\n",
    "y_pred2"
   ]
  },
  {
   "cell_type": "code",
   "execution_count": 47,
   "metadata": {},
   "outputs": [
    {
     "name": "stdout",
     "output_type": "stream",
     "text": [
      "best_estimator: Pipeline(memory=None,\n",
      "     steps=[('vect', CountVectorizer(analyzer='word', binary=False, decode_error='strict',\n",
      "        dtype=<class 'numpy.int64'>, encoding='utf-8', input='content',\n",
      "        lowercase=True, max_df=1.0, max_features=None, min_df=1,\n",
      "        ngram_range=(1, 2), preprocessor=None, stop_words=None,\n",
      "        strip...oob_score=False, random_state=None, verbose=0,\n",
      "            warm_start=False),\n",
      "           n_jobs=1))])\n",
      "best params:{'clf__estimator__n_estimators': 50, 'vect__ngram_range': (1, 2)}\n",
      "best score: 0.18324245449658244\n",
      "Cross Validation results: {'mean_fit_time': array([ 203.86183254,  460.9219652 ]), 'std_fit_time': array([  2.53567585,  15.46653042]), 'mean_score_time': array([ 29.9805812 ,  34.93530854]), 'std_score_time': array([ 0.36090008,  1.10350007]), 'param_clf__estimator__n_estimators': masked_array(data = [50 50],\n",
      "             mask = [False False],\n",
      "       fill_value = ?)\n",
      ", 'param_vect__ngram_range': masked_array(data = [(1, 1) (1, 2)],\n",
      "             mask = [False False],\n",
      "       fill_value = ?)\n",
      ", 'params': [{'clf__estimator__n_estimators': 50, 'vect__ngram_range': (1, 1)}, {'clf__estimator__n_estimators': 50, 'vect__ngram_range': (1, 2)}], 'split0_test_score': array([ 0.14789219,  0.17922138]), 'split1_test_score': array([ 0.16221198,  0.1921659 ]), 'split2_test_score': array([ 0.15414747,  0.17834101]), 'mean_test_score': array([ 0.15475002,  0.18324245]), 'std_test_score': array([ 0.00586165,  0.00631969]), 'rank_test_score': array([2, 1], dtype=int32), 'split0_train_score': array([ 0.965553  ,  0.95806452]), 'split1_train_score': array([ 0.96555696,  0.95288561]), 'split2_train_score': array([ 0.96428983,  0.95346158]), 'mean_train_score': array([ 0.96513326,  0.9548039 ]), 'std_train_score': array([ 0.0005964 ,  0.00231756])}\n",
      "Scorer : <function _passthrough_scorer at 0x7f3d4c2a9598>\n"
     ]
    }
   ],
   "source": [
    "print ('best_estimator: {}'.format(cv2.best_estimator_),\n",
    "       'best params:{}'.format(cv2.best_params_),\n",
    "       'best score: {}'.format(cv2.best_score_),\n",
    "       'Cross Validation results: {}'.format(cv2.cv_results_),\n",
    "       'Scorer : {}'.format(cv2.scorer_),\n",
    "       sep='\\n' )"
   ]
  },
  {
   "cell_type": "code",
   "execution_count": 52,
   "metadata": {},
   "outputs": [
    {
     "name": "stdout",
     "output_type": "stream",
     "text": [
      "Printing precision score, recall score & f1-score for target columns...............\n",
      "             precision    recall  f1-score   support\n",
      "\n",
      "    related       0.83      1.00      0.91        29\n",
      "\n",
      "avg / total       0.86      0.83      0.78        36\n",
      "\n",
      "             precision    recall  f1-score   support\n",
      "\n",
      "    request       0.83      1.00      0.91        29\n",
      "\n",
      "avg / total       0.86      0.83      0.78        36\n",
      "\n",
      "             precision    recall  f1-score   support\n",
      "\n",
      "      offer       0.88      1.00      0.94        30\n",
      "\n",
      "avg / total       0.90      0.89      0.86        36\n",
      "\n",
      "             precision    recall  f1-score   support\n",
      "\n",
      "aid_related       1.00      1.00      1.00        35\n",
      "\n",
      "avg / total       1.00      1.00      1.00        36\n",
      "\n",
      "              precision    recall  f1-score   support\n",
      "\n",
      "medical_help       0.80      1.00      0.89        28\n",
      "\n",
      " avg / total       0.84      0.81      0.74        36\n",
      "\n",
      "                  precision    recall  f1-score   support\n",
      "\n",
      "medical_products       1.00      1.00      1.00        35\n",
      "\n",
      "     avg / total       1.00      1.00      1.00        36\n",
      "\n",
      "                   precision    recall  f1-score   support\n",
      "\n",
      "search_and_rescue       1.00      1.00      1.00        35\n",
      "\n",
      "      avg / total       1.00      1.00      1.00        36\n",
      "\n",
      "             precision    recall  f1-score   support\n",
      "\n",
      "   security       0.89      1.00      0.94        31\n",
      "\n",
      "avg / total       0.90      0.89      0.86        36\n",
      "\n",
      "             precision    recall  f1-score   support\n",
      "\n",
      "   military       1.00      0.97      0.99        36\n",
      "\n",
      "avg / total       1.00      0.97      0.99        36\n",
      "\n",
      "             precision    recall  f1-score   support\n",
      "\n",
      "child_alone       1.00      0.97      0.99        36\n",
      "\n",
      "avg / total       1.00      0.97      0.99        36\n",
      "\n",
      "             precision    recall  f1-score   support\n",
      "\n",
      "      water       0.91      1.00      0.96        32\n",
      "\n",
      "avg / total       0.92      0.92      0.89        36\n",
      "\n",
      "             precision    recall  f1-score   support\n",
      "\n",
      "       food       0.86      1.00      0.92        30\n",
      "\n",
      "avg / total       0.88      0.86      0.82        36\n",
      "\n",
      "             precision    recall  f1-score   support\n",
      "\n",
      "    shelter       1.00      1.00      1.00        35\n",
      "\n",
      "avg / total       1.00      1.00      1.00        36\n",
      "\n",
      "             precision    recall  f1-score   support\n",
      "\n",
      "   clothing       0.91      1.00      0.95        31\n",
      "\n",
      "avg / total       0.92      0.92      0.90        36\n",
      "\n",
      "             precision    recall  f1-score   support\n",
      "\n",
      "      money       1.00      1.00      1.00        35\n",
      "\n",
      "avg / total       1.00      1.00      1.00        36\n",
      "\n",
      "                precision    recall  f1-score   support\n",
      "\n",
      "missing_people       0.94      0.94      0.94        33\n",
      "\n",
      "   avg / total       0.89      0.89      0.89        36\n",
      "\n",
      "             precision    recall  f1-score   support\n",
      "\n",
      "   refugees       0.74      1.00      0.85        26\n",
      "\n",
      "avg / total       0.81      0.75      0.67        36\n",
      "\n",
      "             precision    recall  f1-score   support\n",
      "\n",
      "      death       1.00      1.00      1.00        35\n",
      "\n",
      "avg / total       1.00      1.00      1.00        36\n",
      "\n",
      "             precision    recall  f1-score   support\n",
      "\n",
      "  other_aid       1.00      1.00      1.00        35\n",
      "\n",
      "avg / total       1.00      1.00      1.00        36\n",
      "\n",
      "                        precision    recall  f1-score   support\n",
      "\n",
      "infrastructure_related       1.00      0.97      0.99        36\n",
      "\n",
      "           avg / total       1.00      0.97      0.99        36\n",
      "\n",
      "             precision    recall  f1-score   support\n",
      "\n",
      "  transport       0.86      1.00      0.92        30\n",
      "\n",
      "avg / total       0.88      0.86      0.82        36\n",
      "\n",
      "             precision    recall  f1-score   support\n",
      "\n",
      "  buildings       0.83      1.00      0.91        29\n",
      "\n",
      "avg / total       0.86      0.83      0.78        36\n",
      "\n",
      "             precision    recall  f1-score   support\n",
      "\n",
      "electricity       0.77      1.00      0.87        27\n",
      "\n",
      "avg / total       0.83      0.78      0.70        36\n",
      "\n",
      "             precision    recall  f1-score   support\n",
      "\n",
      "      tools       1.00      0.94      0.97        35\n",
      "\n",
      "avg / total       0.97      0.92      0.94        36\n",
      "\n",
      "             precision    recall  f1-score   support\n",
      "\n",
      "  hospitals       0.89      1.00      0.94        31\n",
      "\n",
      "avg / total       0.90      0.89      0.86        36\n",
      "\n",
      "             precision    recall  f1-score   support\n",
      "\n",
      "      shops       0.77      1.00      0.87        27\n",
      "\n",
      "avg / total       0.83      0.78      0.70        36\n",
      "\n",
      "             precision    recall  f1-score   support\n",
      "\n",
      "aid_centers       0.79      1.00      0.89        27\n",
      "\n",
      "avg / total       0.85      0.81      0.75        36\n",
      "\n",
      "                      precision    recall  f1-score   support\n",
      "\n",
      "other_infrastructure       1.00      0.97      0.99        36\n",
      "\n",
      "         avg / total       1.00      0.97      0.99        36\n",
      "\n",
      "                 precision    recall  f1-score   support\n",
      "\n",
      "weather_related       0.86      1.00      0.92        30\n",
      "\n",
      "    avg / total       0.88      0.86      0.82        36\n",
      "\n",
      "             precision    recall  f1-score   support\n",
      "\n",
      "     floods       0.83      1.00      0.91        29\n",
      "\n",
      "avg / total       0.86      0.83      0.78        36\n",
      "\n",
      "             precision    recall  f1-score   support\n",
      "\n",
      "      storm       1.00      0.97      0.99        36\n",
      "\n",
      "avg / total       1.00      0.97      0.99        36\n",
      "\n",
      "             precision    recall  f1-score   support\n",
      "\n",
      "       fire       1.00      0.97      0.99        36\n",
      "\n",
      "avg / total       1.00      0.97      0.99        36\n",
      "\n",
      "             precision    recall  f1-score   support\n",
      "\n",
      " earthquake       1.00      1.00      1.00        35\n",
      "\n",
      "avg / total       1.00      1.00      1.00        36\n",
      "\n",
      "             precision    recall  f1-score   support\n",
      "\n",
      "       cold       1.00      0.97      0.99        36\n",
      "\n",
      "avg / total       1.00      0.97      0.99        36\n",
      "\n",
      "               precision    recall  f1-score   support\n",
      "\n",
      "other_weather       1.00      1.00      1.00        35\n",
      "\n",
      "  avg / total       1.00      1.00      1.00        36\n",
      "\n",
      "               precision    recall  f1-score   support\n",
      "\n",
      "direct_report       1.00      1.00      1.00        35\n",
      "\n",
      "  avg / total       1.00      1.00      1.00        36\n",
      "\n",
      "..............................................Finished printing precision recall & f1-score for target columns.\n"
     ]
    },
    {
     "name": "stderr",
     "output_type": "stream",
     "text": [
      "/opt/conda/lib/python3.6/site-packages/sklearn/metrics/classification.py:1428: UserWarning: labels size, 2, does not match size of target_names, 1\n",
      "  .format(len(labels), len(target_names))\n",
      "/opt/conda/lib/python3.6/site-packages/sklearn/metrics/classification.py:1137: UndefinedMetricWarning: Recall and F-score are ill-defined and being set to 0.0 in labels with no true samples.\n",
      "  'recall', 'true', average, warn_for)\n",
      "/opt/conda/lib/python3.6/site-packages/sklearn/metrics/classification.py:1428: UserWarning: labels size, 3, does not match size of target_names, 1\n",
      "  .format(len(labels), len(target_names))\n",
      "/opt/conda/lib/python3.6/site-packages/sklearn/metrics/classification.py:1135: UndefinedMetricWarning: Precision and F-score are ill-defined and being set to 0.0 in labels with no predicted samples.\n",
      "  'precision', 'predicted', average, warn_for)\n"
     ]
    }
   ],
   "source": [
    "display_classification_report(y_test,y_pred2,df)"
   ]
  },
  {
   "cell_type": "markdown",
   "metadata": {},
   "source": [
    "### 9. Export your model as a pickle file"
   ]
  },
  {
   "cell_type": "code",
   "execution_count": 71,
   "metadata": {},
   "outputs": [],
   "source": [
    "import pickle"
   ]
  },
  {
   "cell_type": "code",
   "execution_count": 72,
   "metadata": {},
   "outputs": [],
   "source": [
    "file_Name = \"GridSearchModel.pkl\"\n",
    "# open the file for writing\n",
    "fileObject = open(file_Name,'wb') "
   ]
  },
  {
   "cell_type": "code",
   "execution_count": 73,
   "metadata": {},
   "outputs": [],
   "source": [
    "# this writes the object a to the\n",
    "pickle.dump(cv2,fileObject)\n",
    "# # here we close the fileObject\n",
    "fileObject.close()"
   ]
  },
  {
   "cell_type": "code",
   "execution_count": 77,
   "metadata": {},
   "outputs": [],
   "source": [
    "# we open the file for reading\n",
    "fileObject = open(file_Name,'rb')\n",
    "# load the object from the file into var b\n",
    "cv2model = pickle.load(fileObject)"
   ]
  },
  {
   "cell_type": "code",
   "execution_count": 80,
   "metadata": {},
   "outputs": [
    {
     "data": {
      "text/plain": [
       "0.18324245449658244"
      ]
     },
     "execution_count": 80,
     "metadata": {},
     "output_type": "execute_result"
    }
   ],
   "source": [
    "cv2model.best_score_"
   ]
  },
  {
   "cell_type": "markdown",
   "metadata": {},
   "source": [
    "### 10. Use this notebook to complete `train.py`\n",
    "Use the template file attached in the Resources folder to write a script that runs the steps above to create a database and export a model based on a new dataset specified by the user."
   ]
  },
  {
   "cell_type": "code",
   "execution_count": null,
   "metadata": {},
   "outputs": [],
   "source": []
  }
 ],
 "metadata": {
  "kernelspec": {
   "display_name": "Python 3",
   "language": "python",
   "name": "python3"
  },
  "language_info": {
   "codemirror_mode": {
    "name": "ipython",
    "version": 3
   },
   "file_extension": ".py",
   "mimetype": "text/x-python",
   "name": "python",
   "nbconvert_exporter": "python",
   "pygments_lexer": "ipython3",
   "version": "3.6.3"
  }
 },
 "nbformat": 4,
 "nbformat_minor": 2
}
